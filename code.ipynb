{
 "cells": [
  {
   "cell_type": "code",
   "execution_count": 1,
   "metadata": {},
   "outputs": [],
   "source": [
    "\n",
    "\n",
    "import numpy as np\n",
    "%matplotlib inline\n",
    "%config InlineBackend.figure_format = 'svg'\n",
    "import matplotlib.pyplot as plt\n",
    "import matplotlib.animation as animation\n",
    "from matplotlib import cm\n",
    "plt.rcParams['animation.html'] = 'html5'\n",
    "import time\n",
    "\n"
   ]
  },
  {
   "cell_type": "code",
   "execution_count": 2,
   "metadata": {},
   "outputs": [
    {
     "name": "stdout",
     "output_type": "stream",
     "text": [
      "Reynolds Number: 1000.0\n",
      "dt= 0.0004\n"
     ]
    }
   ],
   "source": [
    "# define some boiler plate\n",
    "nx = 16\n",
    "ny = 16\n",
    "# dt = 1.0e-3 # timestep size\n",
    "ν = 0.01 # dynamic viscosity\n",
    "lx = 1.0\n",
    "ly = 1.0\n",
    "dx = lx/nx\n",
    "dy = ly/ny\n",
    "t = 0.0\n",
    "\n",
    "# cell centered coordinates\n",
    "xx = np.linspace(dx/2.0,lx - dx/2.0,nx, endpoint=True)\n",
    "yy = np.linspace(dy/2.0,ly - dy/2.0,ny, endpoint=True)\n",
    "xcc, ycc = np.meshgrid(xx,yy)\n",
    "\n",
    "# x-staggered coordinates\n",
    "xxs = np.linspace(0,lx,nx+1, endpoint=True)\n",
    "xu,yu = np.meshgrid(xxs, yy)\n",
    "\n",
    "# y-staggered coordinates\n",
    "yys = np.linspace(0,ly,ny+1, endpoint=True)\n",
    "xv,yv = np.meshgrid(xx, yys)\n",
    "\n",
    "Ut = 10.0\n",
    "Ub = 0.0\n",
    "Vl = 0.0\n",
    "Vr = 0.0\n",
    "print('Reynolds Number:', Ut*lx/ν)\n",
    "dt = min(0.25*dx*dx/ν, 4.0*ν/Ut/Ut)\n",
    "print('dt=', dt)\n",
    "\n",
    "# initialize velocities - we stagger everything in the negative direction. A scalar cell owns its minus face, only.\n",
    "# Then, for example, the u velocity field has a ghost cell at x0 - dx and the plus ghost cell at lx\n",
    "u = np.zeros([ny+2, nx+2]) # include ghost cells\n",
    "\n",
    "# # same thing for the y-velocity component\n",
    "v = np.zeros([ny +2, nx+2]) # include ghost cells\n",
    "\n",
    "ut = np.zeros_like(u)\n",
    "vt = np.zeros_like(u)    \n",
    "\n",
    "# initialize the pressure\n",
    "p = np.zeros([nx+2,ny+2]); # include ghost cells\n",
    "\n",
    "# a bunch of lists for animation purposes\n",
    "usol=[]\n",
    "usol.append(u)\n",
    "\n",
    "vsol=[]\n",
    "vsol.append(v)\n",
    "\n",
    "psol = []\n",
    "psol.append(p)"
   ]
  },
  {
   "cell_type": "code",
   "execution_count": 3,
   "metadata": {},
   "outputs": [],
   "source": [
    "# build pressure coefficient matrix\n",
    "Ap = np.zeros([ny+2,nx+2])\n",
    "Ae = 1.0/dx/dx*np.ones([ny+2,nx+2])\n",
    "As = 1.0/dy/dy*np.ones([ny+2,nx+2])\n",
    "An = 1.0/dy/dy*np.ones([ny+2,nx+2])\n",
    "Aw = 1.0/dx/dx*np.ones([ny+2,nx+2])\n",
    "# set left wall coefs\n",
    "Aw[1:-1,1] = 0.0\n",
    "# set right wall coefs\n",
    "Ae[1:-1,-2] = 0.0\n",
    "# set top wall coefs\n",
    "An[-2,1:-1] = 0.0\n",
    "# set bottom wall coefs\n",
    "As[1,1:-1] = 0.0\n",
    "Ap = -(Aw + Ae + An + As)\n",
    "\n",
    "def pressure_poisson2(p, b, dx, dy):\n",
    "    pn = np.empty_like(p)\n",
    "    it = 0\n",
    "    err = 1e5\n",
    "    tol = 1e-8\n",
    "    maxit = 100\n",
    "    β = 1.1\n",
    "    while err > tol and it < maxit:\n",
    "        pn = p.copy()    \n",
    "        for i in range(1,nx+1):\n",
    "            for j in range(1,ny+1):\n",
    "                ap = Ap[j,i]\n",
    "                an = An[j,i]\n",
    "                aso = As[j,i]\n",
    "                ae = Ae[j,i]\n",
    "                aw = Aw[j,i]\n",
    "                rhs = b[j,i] - 1.0*(ae*p[j,i+1] + aw*p[j,i-1] + an*p[j+1,i] + aso*p[j-1,i])\n",
    "                p[j,i] = β*rhs/ap + (1-β)*p[j,i]\n",
    "        err = np.linalg.norm(p - pn)\n",
    "        it += 1\n",
    "#     print('Poisson Error:', err)        \n",
    "    return p, err"
   ]
  },
  {
   "cell_type": "code",
   "execution_count": 4,
   "metadata": {},
   "outputs": [
    {
     "data": {
      "text/plain": [
       "<matplotlib.image.AxesImage at 0x113efd00>"
      ]
     },
     "execution_count": 4,
     "metadata": {},
     "output_type": "execute_result"
    },
    {
     "data": {
      "image/svg+xml": "<?xml version=\"1.0\" encoding=\"utf-8\" standalone=\"no\"?>\r\n<!DOCTYPE svg PUBLIC \"-//W3C//DTD SVG 1.1//EN\"\r\n  \"http://www.w3.org/Graphics/SVG/1.1/DTD/svg11.dtd\">\r\n<!-- Created with matplotlib (https://matplotlib.org/) -->\r\n<svg height=\"257.778125pt\" version=\"1.1\" viewBox=\"0 0 268.435938 257.778125\" width=\"268.435938pt\" xmlns=\"http://www.w3.org/2000/svg\" xmlns:xlink=\"http://www.w3.org/1999/xlink\">\r\n <defs>\r\n  <style type=\"text/css\">\r\n*{stroke-linecap:butt;stroke-linejoin:round;}\r\n  </style>\r\n </defs>\r\n <g id=\"figure_1\">\r\n  <g id=\"patch_1\">\r\n   <path d=\"M 0 257.778125 \r\nL 268.435938 257.778125 \r\nL 268.435938 0 \r\nL 0 0 \r\nz\r\n\" style=\"fill:none;\"/>\r\n  </g>\r\n  <g id=\"axes_1\">\r\n   <g id=\"patch_2\">\r\n    <path d=\"M 33.2875 247.078125 \r\nL 256.4875 247.078125 \r\nL 256.4875 23.878125 \r\nL 33.2875 23.878125 \r\nz\r\n\" style=\"fill:#ffffff;\"/>\r\n   </g>\r\n   <g clip-path=\"url(#ped4546e56f)\">\r\n    <image height=\"224\" id=\"image0048723bab\" transform=\"scale(1 -1)translate(0 -224)\" width=\"224\" x=\"33.2875\" xlink:href=\"data:image/png;base64,\r\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\" y=\"-23.078125\"/>\r\n   </g>\r\n   <g id=\"matplotlib.axis_1\">\r\n    <g id=\"xtick_1\">\r\n     <g id=\"line2d_1\">\r\n      <defs>\r\n       <path d=\"M 0 0 \r\nL 0 3.5 \r\n\" id=\"m23c4b22bec\" style=\"stroke:#000000;stroke-width:0.8;\"/>\r\n      </defs>\r\n      <g>\r\n       <use style=\"stroke:#000000;stroke-width:0.8;\" x=\"33.723438\" xlink:href=\"#m23c4b22bec\" y=\"247.078125\"/>\r\n      </g>\r\n     </g>\r\n     <g id=\"line2d_2\">\r\n      <defs>\r\n       <path d=\"M 0 0 \r\nL 0 -3.5 \r\n\" id=\"mdc2f49fe6f\" style=\"stroke:#000000;stroke-width:0.8;\"/>\r\n      </defs>\r\n      <g>\r\n       <use style=\"stroke:#000000;stroke-width:0.8;\" x=\"33.723438\" xlink:href=\"#mdc2f49fe6f\" y=\"23.878125\"/>\r\n      </g>\r\n     </g>\r\n     <g id=\"text_1\">\r\n      <!-- 0 -->\r\n      <defs>\r\n       <path d=\"M 31.78125 66.40625 \r\nQ 24.171875 66.40625 20.328125 58.90625 \r\nQ 16.5 51.421875 16.5 36.375 \r\nQ 16.5 21.390625 20.328125 13.890625 \r\nQ 24.171875 6.390625 31.78125 6.390625 \r\nQ 39.453125 6.390625 43.28125 13.890625 \r\nQ 47.125 21.390625 47.125 36.375 \r\nQ 47.125 51.421875 43.28125 58.90625 \r\nQ 39.453125 66.40625 31.78125 66.40625 \r\nz\r\nM 31.78125 74.21875 \r\nQ 44.046875 74.21875 50.515625 64.515625 \r\nQ 56.984375 54.828125 56.984375 36.375 \r\nQ 56.984375 17.96875 50.515625 8.265625 \r\nQ 44.046875 -1.421875 31.78125 -1.421875 \r\nQ 19.53125 -1.421875 13.0625 8.265625 \r\nQ 6.59375 17.96875 6.59375 36.375 \r\nQ 6.59375 54.828125 13.0625 64.515625 \r\nQ 19.53125 74.21875 31.78125 74.21875 \r\nz\r\n\" id=\"DejaVuSans-48\"/>\r\n      </defs>\r\n      <g transform=\"translate(30.542188 14.798438)scale(0.1 -0.1)\">\r\n       <use xlink:href=\"#DejaVuSans-48\"/>\r\n      </g>\r\n     </g>\r\n    </g>\r\n    <g id=\"xtick_2\">\r\n     <g id=\"line2d_3\">\r\n      <g>\r\n       <use style=\"stroke:#000000;stroke-width:0.8;\" x=\"77.317188\" xlink:href=\"#m23c4b22bec\" y=\"247.078125\"/>\r\n      </g>\r\n     </g>\r\n     <g id=\"line2d_4\">\r\n      <g>\r\n       <use style=\"stroke:#000000;stroke-width:0.8;\" x=\"77.317188\" xlink:href=\"#mdc2f49fe6f\" y=\"23.878125\"/>\r\n      </g>\r\n     </g>\r\n     <g id=\"text_2\">\r\n      <!-- 50 -->\r\n      <defs>\r\n       <path d=\"M 10.796875 72.90625 \r\nL 49.515625 72.90625 \r\nL 49.515625 64.59375 \r\nL 19.828125 64.59375 \r\nL 19.828125 46.734375 \r\nQ 21.96875 47.46875 24.109375 47.828125 \r\nQ 26.265625 48.1875 28.421875 48.1875 \r\nQ 40.625 48.1875 47.75 41.5 \r\nQ 54.890625 34.8125 54.890625 23.390625 \r\nQ 54.890625 11.625 47.5625 5.09375 \r\nQ 40.234375 -1.421875 26.90625 -1.421875 \r\nQ 22.3125 -1.421875 17.546875 -0.640625 \r\nQ 12.796875 0.140625 7.71875 1.703125 \r\nL 7.71875 11.625 \r\nQ 12.109375 9.234375 16.796875 8.0625 \r\nQ 21.484375 6.890625 26.703125 6.890625 \r\nQ 35.15625 6.890625 40.078125 11.328125 \r\nQ 45.015625 15.765625 45.015625 23.390625 \r\nQ 45.015625 31 40.078125 35.4375 \r\nQ 35.15625 39.890625 26.703125 39.890625 \r\nQ 22.75 39.890625 18.8125 39.015625 \r\nQ 14.890625 38.140625 10.796875 36.28125 \r\nz\r\n\" id=\"DejaVuSans-53\"/>\r\n      </defs>\r\n      <g transform=\"translate(70.954688 14.798438)scale(0.1 -0.1)\">\r\n       <use xlink:href=\"#DejaVuSans-53\"/>\r\n       <use x=\"63.623047\" xlink:href=\"#DejaVuSans-48\"/>\r\n      </g>\r\n     </g>\r\n    </g>\r\n    <g id=\"xtick_3\">\r\n     <g id=\"line2d_5\">\r\n      <g>\r\n       <use style=\"stroke:#000000;stroke-width:0.8;\" x=\"120.910938\" xlink:href=\"#m23c4b22bec\" y=\"247.078125\"/>\r\n      </g>\r\n     </g>\r\n     <g id=\"line2d_6\">\r\n      <g>\r\n       <use style=\"stroke:#000000;stroke-width:0.8;\" x=\"120.910938\" xlink:href=\"#mdc2f49fe6f\" y=\"23.878125\"/>\r\n      </g>\r\n     </g>\r\n     <g id=\"text_3\">\r\n      <!-- 100 -->\r\n      <defs>\r\n       <path d=\"M 12.40625 8.296875 \r\nL 28.515625 8.296875 \r\nL 28.515625 63.921875 \r\nL 10.984375 60.40625 \r\nL 10.984375 69.390625 \r\nL 28.421875 72.90625 \r\nL 38.28125 72.90625 \r\nL 38.28125 8.296875 \r\nL 54.390625 8.296875 \r\nL 54.390625 0 \r\nL 12.40625 0 \r\nz\r\n\" id=\"DejaVuSans-49\"/>\r\n      </defs>\r\n      <g transform=\"translate(111.367188 14.798438)scale(0.1 -0.1)\">\r\n       <use xlink:href=\"#DejaVuSans-49\"/>\r\n       <use x=\"63.623047\" xlink:href=\"#DejaVuSans-48\"/>\r\n       <use x=\"127.246094\" xlink:href=\"#DejaVuSans-48\"/>\r\n      </g>\r\n     </g>\r\n    </g>\r\n    <g id=\"xtick_4\">\r\n     <g id=\"line2d_7\">\r\n      <g>\r\n       <use style=\"stroke:#000000;stroke-width:0.8;\" x=\"164.504688\" xlink:href=\"#m23c4b22bec\" y=\"247.078125\"/>\r\n      </g>\r\n     </g>\r\n     <g id=\"line2d_8\">\r\n      <g>\r\n       <use style=\"stroke:#000000;stroke-width:0.8;\" x=\"164.504688\" xlink:href=\"#mdc2f49fe6f\" y=\"23.878125\"/>\r\n      </g>\r\n     </g>\r\n     <g id=\"text_4\">\r\n      <!-- 150 -->\r\n      <g transform=\"translate(154.960938 14.798438)scale(0.1 -0.1)\">\r\n       <use xlink:href=\"#DejaVuSans-49\"/>\r\n       <use x=\"63.623047\" xlink:href=\"#DejaVuSans-53\"/>\r\n       <use x=\"127.246094\" xlink:href=\"#DejaVuSans-48\"/>\r\n      </g>\r\n     </g>\r\n    </g>\r\n    <g id=\"xtick_5\">\r\n     <g id=\"line2d_9\">\r\n      <g>\r\n       <use style=\"stroke:#000000;stroke-width:0.8;\" x=\"208.098438\" xlink:href=\"#m23c4b22bec\" y=\"247.078125\"/>\r\n      </g>\r\n     </g>\r\n     <g id=\"line2d_10\">\r\n      <g>\r\n       <use style=\"stroke:#000000;stroke-width:0.8;\" x=\"208.098438\" xlink:href=\"#mdc2f49fe6f\" y=\"23.878125\"/>\r\n      </g>\r\n     </g>\r\n     <g id=\"text_5\">\r\n      <!-- 200 -->\r\n      <defs>\r\n       <path d=\"M 19.1875 8.296875 \r\nL 53.609375 8.296875 \r\nL 53.609375 0 \r\nL 7.328125 0 \r\nL 7.328125 8.296875 \r\nQ 12.9375 14.109375 22.625 23.890625 \r\nQ 32.328125 33.6875 34.8125 36.53125 \r\nQ 39.546875 41.84375 41.421875 45.53125 \r\nQ 43.3125 49.21875 43.3125 52.78125 \r\nQ 43.3125 58.59375 39.234375 62.25 \r\nQ 35.15625 65.921875 28.609375 65.921875 \r\nQ 23.96875 65.921875 18.8125 64.3125 \r\nQ 13.671875 62.703125 7.8125 59.421875 \r\nL 7.8125 69.390625 \r\nQ 13.765625 71.78125 18.9375 73 \r\nQ 24.125 74.21875 28.421875 74.21875 \r\nQ 39.75 74.21875 46.484375 68.546875 \r\nQ 53.21875 62.890625 53.21875 53.421875 \r\nQ 53.21875 48.921875 51.53125 44.890625 \r\nQ 49.859375 40.875 45.40625 35.40625 \r\nQ 44.1875 33.984375 37.640625 27.21875 \r\nQ 31.109375 20.453125 19.1875 8.296875 \r\nz\r\n\" id=\"DejaVuSans-50\"/>\r\n      </defs>\r\n      <g transform=\"translate(198.554688 14.798438)scale(0.1 -0.1)\">\r\n       <use xlink:href=\"#DejaVuSans-50\"/>\r\n       <use x=\"63.623047\" xlink:href=\"#DejaVuSans-48\"/>\r\n       <use x=\"127.246094\" xlink:href=\"#DejaVuSans-48\"/>\r\n      </g>\r\n     </g>\r\n    </g>\r\n    <g id=\"xtick_6\">\r\n     <g id=\"line2d_11\">\r\n      <g>\r\n       <use style=\"stroke:#000000;stroke-width:0.8;\" x=\"251.692188\" xlink:href=\"#m23c4b22bec\" y=\"247.078125\"/>\r\n      </g>\r\n     </g>\r\n     <g id=\"line2d_12\">\r\n      <g>\r\n       <use style=\"stroke:#000000;stroke-width:0.8;\" x=\"251.692188\" xlink:href=\"#mdc2f49fe6f\" y=\"23.878125\"/>\r\n      </g>\r\n     </g>\r\n     <g id=\"text_6\">\r\n      <!-- 250 -->\r\n      <g transform=\"translate(242.148438 14.798438)scale(0.1 -0.1)\">\r\n       <use xlink:href=\"#DejaVuSans-50\"/>\r\n       <use x=\"63.623047\" xlink:href=\"#DejaVuSans-53\"/>\r\n       <use x=\"127.246094\" xlink:href=\"#DejaVuSans-48\"/>\r\n      </g>\r\n     </g>\r\n    </g>\r\n   </g>\r\n   <g id=\"matplotlib.axis_2\">\r\n    <g id=\"ytick_1\">\r\n     <g id=\"line2d_13\">\r\n      <defs>\r\n       <path d=\"M 0 0 \r\nL -3.5 0 \r\n\" id=\"mc56d7cbb4a\" style=\"stroke:#000000;stroke-width:0.8;\"/>\r\n      </defs>\r\n      <g>\r\n       <use style=\"stroke:#000000;stroke-width:0.8;\" x=\"33.2875\" xlink:href=\"#mc56d7cbb4a\" y=\"24.314063\"/>\r\n      </g>\r\n     </g>\r\n     <g id=\"text_7\">\r\n      <!-- 0 -->\r\n      <g transform=\"translate(19.925 28.113281)scale(0.1 -0.1)\">\r\n       <use xlink:href=\"#DejaVuSans-48\"/>\r\n      </g>\r\n     </g>\r\n    </g>\r\n    <g id=\"ytick_2\">\r\n     <g id=\"line2d_14\">\r\n      <g>\r\n       <use style=\"stroke:#000000;stroke-width:0.8;\" x=\"33.2875\" xlink:href=\"#mc56d7cbb4a\" y=\"67.907813\"/>\r\n      </g>\r\n     </g>\r\n     <g id=\"text_8\">\r\n      <!-- 50 -->\r\n      <g transform=\"translate(13.5625 71.707031)scale(0.1 -0.1)\">\r\n       <use xlink:href=\"#DejaVuSans-53\"/>\r\n       <use x=\"63.623047\" xlink:href=\"#DejaVuSans-48\"/>\r\n      </g>\r\n     </g>\r\n    </g>\r\n    <g id=\"ytick_3\">\r\n     <g id=\"line2d_15\">\r\n      <g>\r\n       <use style=\"stroke:#000000;stroke-width:0.8;\" x=\"33.2875\" xlink:href=\"#mc56d7cbb4a\" y=\"111.501563\"/>\r\n      </g>\r\n     </g>\r\n     <g id=\"text_9\">\r\n      <!-- 100 -->\r\n      <g transform=\"translate(7.2 115.300781)scale(0.1 -0.1)\">\r\n       <use xlink:href=\"#DejaVuSans-49\"/>\r\n       <use x=\"63.623047\" xlink:href=\"#DejaVuSans-48\"/>\r\n       <use x=\"127.246094\" xlink:href=\"#DejaVuSans-48\"/>\r\n      </g>\r\n     </g>\r\n    </g>\r\n    <g id=\"ytick_4\">\r\n     <g id=\"line2d_16\">\r\n      <g>\r\n       <use style=\"stroke:#000000;stroke-width:0.8;\" x=\"33.2875\" xlink:href=\"#mc56d7cbb4a\" y=\"155.095313\"/>\r\n      </g>\r\n     </g>\r\n     <g id=\"text_10\">\r\n      <!-- 150 -->\r\n      <g transform=\"translate(7.2 158.894531)scale(0.1 -0.1)\">\r\n       <use xlink:href=\"#DejaVuSans-49\"/>\r\n       <use x=\"63.623047\" xlink:href=\"#DejaVuSans-53\"/>\r\n       <use x=\"127.246094\" xlink:href=\"#DejaVuSans-48\"/>\r\n      </g>\r\n     </g>\r\n    </g>\r\n    <g id=\"ytick_5\">\r\n     <g id=\"line2d_17\">\r\n      <g>\r\n       <use style=\"stroke:#000000;stroke-width:0.8;\" x=\"33.2875\" xlink:href=\"#mc56d7cbb4a\" y=\"198.689063\"/>\r\n      </g>\r\n     </g>\r\n     <g id=\"text_11\">\r\n      <!-- 200 -->\r\n      <g transform=\"translate(7.2 202.488281)scale(0.1 -0.1)\">\r\n       <use xlink:href=\"#DejaVuSans-50\"/>\r\n       <use x=\"63.623047\" xlink:href=\"#DejaVuSans-48\"/>\r\n       <use x=\"127.246094\" xlink:href=\"#DejaVuSans-48\"/>\r\n      </g>\r\n     </g>\r\n    </g>\r\n    <g id=\"ytick_6\">\r\n     <g id=\"line2d_18\">\r\n      <g>\r\n       <use style=\"stroke:#000000;stroke-width:0.8;\" x=\"33.2875\" xlink:href=\"#mc56d7cbb4a\" y=\"242.282813\"/>\r\n      </g>\r\n     </g>\r\n     <g id=\"text_12\">\r\n      <!-- 250 -->\r\n      <g transform=\"translate(7.2 246.082031)scale(0.1 -0.1)\">\r\n       <use xlink:href=\"#DejaVuSans-50\"/>\r\n       <use x=\"63.623047\" xlink:href=\"#DejaVuSans-53\"/>\r\n       <use x=\"127.246094\" xlink:href=\"#DejaVuSans-48\"/>\r\n      </g>\r\n     </g>\r\n    </g>\r\n   </g>\r\n   <g id=\"patch_3\">\r\n    <path d=\"M 33.2875 247.078125 \r\nL 33.2875 23.878125 \r\n\" style=\"fill:none;stroke:#000000;stroke-linecap:square;stroke-linejoin:miter;stroke-width:0.8;\"/>\r\n   </g>\r\n   <g id=\"patch_4\">\r\n    <path d=\"M 256.4875 247.078125 \r\nL 256.4875 23.878125 \r\n\" style=\"fill:none;stroke:#000000;stroke-linecap:square;stroke-linejoin:miter;stroke-width:0.8;\"/>\r\n   </g>\r\n   <g id=\"patch_5\">\r\n    <path d=\"M 33.2875 247.078125 \r\nL 256.4875 247.078125 \r\n\" style=\"fill:none;stroke:#000000;stroke-linecap:square;stroke-linejoin:miter;stroke-width:0.8;\"/>\r\n   </g>\r\n   <g id=\"patch_6\">\r\n    <path d=\"M 33.2875 23.878125 \r\nL 256.4875 23.878125 \r\n\" style=\"fill:none;stroke:#000000;stroke-linecap:square;stroke-linejoin:miter;stroke-width:0.8;\"/>\r\n   </g>\r\n  </g>\r\n </g>\r\n <defs>\r\n  <clipPath id=\"ped4546e56f\">\r\n   <rect height=\"223.2\" width=\"223.2\" x=\"33.2875\" y=\"23.878125\"/>\r\n  </clipPath>\r\n </defs>\r\n</svg>\r\n",
      "text/plain": [
       "<Figure size 288x288 with 1 Axes>"
      ]
     },
     "metadata": {
      "needs_background": "light"
     },
     "output_type": "display_data"
    }
   ],
   "source": [
    "# USE sparse solver\n",
    "import scipy.linalg\n",
    "import scipy.sparse\n",
    "import scipy.sparse.linalg\n",
    "# build pressure coefficient matrix\n",
    "Ap = np.zeros([ny,nx])\n",
    "Ae = 1.0/dx/dx*np.ones([ny,nx])\n",
    "As = 1.0/dy/dy*np.ones([ny,nx])\n",
    "An = 1.0/dy/dy*np.ones([ny,nx])\n",
    "Aw = 1.0/dx/dx*np.ones([ny,nx])\n",
    "# set left wall coefs\n",
    "Aw[:,0] = 0.0\n",
    "# set right wall coefs\n",
    "Ae[:,-1] = 0.0\n",
    "# set top wall coefs\n",
    "An[-1,:] = 0.0\n",
    "# set bottom wall coefs\n",
    "As[0,:] = 0.0\n",
    "Ap = -(Aw + Ae + An + As)\n",
    "\n",
    "n = nx*ny\n",
    "d0 = Ap.reshape(n)\n",
    "# print(d0)\n",
    "de = Ae.reshape(n)[:-1]\n",
    "# print(de)\n",
    "dw = Aw.reshape(n)[1:]\n",
    "# print(dw)\n",
    "ds = As.reshape(n)[nx:]\n",
    "# print(ds)\n",
    "dn = An.reshape(n)[:-nx]\n",
    "# print(dn)\n",
    "A1 = scipy.sparse.diags([d0, de, dw, dn, ds], [0, 1, -1, nx, -nx], format='csr')\n",
    "plt.matshow((A1.toarray()))"
   ]
  },
  {
   "cell_type": "code",
   "execution_count": 6,
   "metadata": {},
   "outputs": [],
   "source": [
    "# while t < tend:\n",
    "momtime = 0.0\n",
    "solvertime = 0.0\n",
    "nsteps = 10\n",
    "for n in range(0,nsteps):\n",
    "    # left wall\n",
    "    u[1:-1,1] = 0.0\n",
    "    # right wall\n",
    "    u[1:-1,-1] = 0.0\n",
    "    # top wall\n",
    "    u[-1,1:] = 2.0*Ut - u[-2,1:]\n",
    "    # bottom wall\n",
    "    u[0,1:] = 2.0*Ub - u[1,1:]\n",
    "\n",
    "    # left wall\n",
    "    v[1:,0] = 2.0*Vl - v[1:,1]\n",
    "    # right wall\n",
    "    v[1:,-1] = 2.0*Vr - v[1:,-2]\n",
    "    # bottom wall\n",
    "    v[1,1:-1] = 0.0\n",
    "    # top wall\n",
    "    v[-1,1:-1] = 0.0    \n",
    "  \n",
    "\n",
    "    # do x-momentum first - u is of size (nx + 2) x (ny + 2) - only need to do the interior points\n",
    "    for i in range(2,nx+1):\n",
    "        for j in range(1,ny+1):\n",
    "            ue = 0.5*(u[j,i+1] + u[j,i])\n",
    "            uw = 0.5*(u[j,i]   + u[j,i-1])    \n",
    "            \n",
    "            un = 0.5*(u[j+1,i] + u[j,i])\n",
    "            us = 0.5*(u[j,i] + u[j-1,i])            \n",
    "            \n",
    "            vn = 0.5*(v[j+1,i] + v[j+1,i-1])\n",
    "            vs = 0.5*(v[j,i] + v[j,i-1])\n",
    "            \n",
    "            # convection = - d(uu)/dx - d(vu)/dy\n",
    "            convection = - (ue*ue - uw*uw)/dx - (un*vn - us*vs)/dy\n",
    "            \n",
    "            # diffusion = d2u/dx2 + d2u/dy2\n",
    "            diffusion = ν*( (u[j,i+1] - 2.0*u[j,i] + u[j,i-1])/dx/dx + (u[j+1,i] - 2.0*u[j,i] + u[j-1,i])/dy/dy )\n",
    "            \n",
    "            ut[j,i] = u[j,i] + dt *(convection + diffusion)\n",
    "                \n",
    "    # do y-momentum - only need to do interior points\n",
    "    for i in range(1,nx+1):\n",
    "        for j in range(2,ny+1):\n",
    "            ve = 0.5*(v[j,i+1] + v[j,i])\n",
    "            vw = 0.5*(v[j,i] + v[j,i-1])    \n",
    "            \n",
    "            ue = 0.5*(u[j,i+1] + u[j-1,i+1])\n",
    "            uw = 0.5*(u[j,i] + u[j-1,i])\n",
    "            \n",
    "            vn = 0.5*(v[j+1,i] + v[j,i])\n",
    "            vs = 0.5*(v[j,i] + v[j-1,i])            \n",
    "\n",
    "            # convection = d(uv)/dx + d(vv)/dy\n",
    "            convection = - (ue*ve - uw*vw)/dx - (vn*vn - vs*vs)/dy\n",
    "            \n",
    "            # diffusion = d2u/dx2 + d2u/dy2\n",
    "            diffusion = ν*( (v[j,i+1] - 2.0*v[j,i] + v[j,i-1])/dx/dx + (v[j+1,i] - 2.0*v[j,i] + v[j-1,i])/dy/dy )\n",
    "            \n",
    "            vt[j,i] = v[j,i] + dt*(convection + diffusion)            \n",
    "    # do pressure - prhs = 1/dt * div(uhat)\n",
    "    # we will only need to fill the interior points. This size is for convenient indexing\n",
    "    divut = np.zeros([ny+2,nx+2]) \n",
    "#     for i in range(1,nx+1):\n",
    "#         for j in range(1,ny+1):\n",
    "#             divutilde[j,i] = (ut[j,i+1] - ut[j,i])/dx + (vt[j+1,i] - vt[j,i])/dy\n",
    "    divut[1:-1,1:-1] = (ut[1:-1,2:] - ut[1:-1,1:-1])/dx + (vt[2:,1:-1] - vt[1:-1,1:-1])/dy\n",
    "\n",
    "    prhs = 1.0/dt * divut\n",
    "    \n",
    "    ###### Use the direct solver\n",
    "#     tic=time.clock()    \n",
    "#     pressure_poisson2(p,prhs,dx,dy)\n",
    "#     toc=time.clock()\n",
    "#     solvertime += toc - tic\n",
    "#     psol.append(p)\n",
    "\n",
    "    \n",
    "    \n",
    "    ###### Use the sparse linear solver\n",
    "#     pt = scipy.sparse.linalg.spsolve(A1,prhs[1:-1,1:-1].ravel()) #theta=sc.linalg.solve_triangular(A,d)\n",
    "    pt,info = scipy.sparse.linalg.bicg(A1,prhs[1:-1,1:-1].ravel(),tol=1e-10) #theta=sc.linalg.solve_triangular(A,d)\n",
    "    p = np.zeros([ny+2,nx+2])\n",
    "    p[1:-1,1:-1] = pt.reshape([ny,nx])\n",
    "\n",
    "    # time advance\n",
    "    u[1:-1,2:-1] = ut[1:-1,2:-1] - dt * (p[1:-1,2:-1] - p[1:-1,1:-2])/dx\n",
    "    v[2:-1,1:-1] = vt[2:-1,1:-1] - dt * (p[2:-1,1:-1] - p[1:-2,1:-1])/dy       \n",
    "    \n",
    "        \n",
    "#     # Check mass residual\n",
    "#     divunp1 = np.zeros([ny+2,nx+2])\n",
    "#     for i in range(1,nx+1):\n",
    "#         for j in range(1,ny+1):\n",
    "#             divunp1[j,i] = (u[j,i+1] - u[j,i])/dx + (v[j+1,i] - v[j,i])/dy\n",
    "#     residual = np.linalg.norm(divunp1.ravel())\n",
    "#     if residual > 1e-6:\n",
    "#         print('Mass residual:',np.linalg.norm(divunp1.ravel()))\n",
    "    \n",
    "    # save new solutions\n",
    "#     usol.append(u)\n",
    "#     vsol.append(v)\n",
    "    \n",
    "#     t += dt\n",
    "# print('total time', totaltime, 's')\n",
    "# print('time per timestep =',totaltime/nsteps, 's')\n",
    "# print('mom assembly time', totaltime - solvertime, 's')\n",
    "# print('solver time', solvertime, 's')\n",
    "# print('solver fraction =', np.ceil(solvertime/(tend - t0)*100),'%')"
   ]
  },
  {
   "cell_type": "code",
   "execution_count": 7,
   "metadata": {},
   "outputs": [
    {
     "data": {
      "text/plain": [
       "<matplotlib.colorbar.Colorbar at 0x120034c0>"
      ]
     },
     "execution_count": 7,
     "metadata": {},
     "output_type": "execute_result"
    },
    {
     "data": {
      "image/svg+xml": "<?xml version=\"1.0\" encoding=\"utf-8\" standalone=\"no\"?>\r\n<!DOCTYPE svg PUBLIC \"-//W3C//DTD SVG 1.1//EN\"\r\n  \"http://www.w3.org/Graphics/SVG/1.1/DTD/svg11.dtd\">\r\n<!-- Created with matplotlib (https://matplotlib.org/) -->\r\n<svg height=\"259.116562pt\" version=\"1.1\" viewBox=\"0 0 300.919187 259.116562\" width=\"300.919187pt\" xmlns=\"http://www.w3.org/2000/svg\" xmlns:xlink=\"http://www.w3.org/1999/xlink\">\r\n <defs>\r\n  <style type=\"text/css\">\r\n*{stroke-linecap:butt;stroke-linejoin:round;}\r\n  </style>\r\n </defs>\r\n <g id=\"figure_1\">\r\n  <g id=\"patch_1\">\r\n   <path d=\"M 0 259.116562 \r\nL 300.919187 259.116562 \r\nL 300.919187 0 \r\nL 0 0 \r\nz\r\n\" style=\"fill:none;\"/>\r\n  </g>\r\n  <g id=\"axes_1\">\r\n   <g id=\"patch_2\">\r\n    <path d=\"M 26.925 235.238437 \r\nL 244.365 235.238437 \r\nL 244.365 17.798437 \r\nL 26.925 17.798437 \r\nz\r\n\" style=\"fill:#ffffff;\"/>\r\n   </g>\r\n   <g clip-path=\"url(#p361182c98c)\">\r\n    <image height=\"218\" id=\"image7f649ee7da\" transform=\"scale(1 -1)translate(0 -218)\" width=\"218\" x=\"26.925\" xlink:href=\"data:image/png;base64,\r\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\" y=\"-17.238437\"/>\r\n   </g>\r\n   <g id=\"matplotlib.axis_1\">\r\n    <g id=\"xtick_1\">\r\n     <g id=\"line2d_1\">\r\n      <defs>\r\n       <path d=\"M 0 0 \r\nL 0 3.5 \r\n\" id=\"m6e1b2c923d\" style=\"stroke:#000000;stroke-width:0.8;\"/>\r\n      </defs>\r\n      <g>\r\n       <use style=\"stroke:#000000;stroke-width:0.8;\" x=\"33.72\" xlink:href=\"#m6e1b2c923d\" y=\"235.238437\"/>\r\n      </g>\r\n     </g>\r\n     <g id=\"text_1\">\r\n      <!-- 0.0 -->\r\n      <defs>\r\n       <path d=\"M 31.78125 66.40625 \r\nQ 24.171875 66.40625 20.328125 58.90625 \r\nQ 16.5 51.421875 16.5 36.375 \r\nQ 16.5 21.390625 20.328125 13.890625 \r\nQ 24.171875 6.390625 31.78125 6.390625 \r\nQ 39.453125 6.390625 43.28125 13.890625 \r\nQ 47.125 21.390625 47.125 36.375 \r\nQ 47.125 51.421875 43.28125 58.90625 \r\nQ 39.453125 66.40625 31.78125 66.40625 \r\nz\r\nM 31.78125 74.21875 \r\nQ 44.046875 74.21875 50.515625 64.515625 \r\nQ 56.984375 54.828125 56.984375 36.375 \r\nQ 56.984375 17.96875 50.515625 8.265625 \r\nQ 44.046875 -1.421875 31.78125 -1.421875 \r\nQ 19.53125 -1.421875 13.0625 8.265625 \r\nQ 6.59375 17.96875 6.59375 36.375 \r\nQ 6.59375 54.828125 13.0625 64.515625 \r\nQ 19.53125 74.21875 31.78125 74.21875 \r\nz\r\n\" id=\"DejaVuSans-48\"/>\r\n       <path d=\"M 10.6875 12.40625 \r\nL 21 12.40625 \r\nL 21 0 \r\nL 10.6875 0 \r\nz\r\n\" id=\"DejaVuSans-46\"/>\r\n      </defs>\r\n      <g transform=\"translate(25.768438 249.836875)scale(0.1 -0.1)\">\r\n       <use xlink:href=\"#DejaVuSans-48\"/>\r\n       <use x=\"63.623047\" xlink:href=\"#DejaVuSans-46\"/>\r\n       <use x=\"95.410156\" xlink:href=\"#DejaVuSans-48\"/>\r\n      </g>\r\n     </g>\r\n    </g>\r\n    <g id=\"xtick_2\">\r\n     <g id=\"line2d_2\">\r\n      <g>\r\n       <use style=\"stroke:#000000;stroke-width:0.8;\" x=\"67.695\" xlink:href=\"#m6e1b2c923d\" y=\"235.238437\"/>\r\n      </g>\r\n     </g>\r\n     <g id=\"text_2\">\r\n      <!-- 2.5 -->\r\n      <defs>\r\n       <path d=\"M 19.1875 8.296875 \r\nL 53.609375 8.296875 \r\nL 53.609375 0 \r\nL 7.328125 0 \r\nL 7.328125 8.296875 \r\nQ 12.9375 14.109375 22.625 23.890625 \r\nQ 32.328125 33.6875 34.8125 36.53125 \r\nQ 39.546875 41.84375 41.421875 45.53125 \r\nQ 43.3125 49.21875 43.3125 52.78125 \r\nQ 43.3125 58.59375 39.234375 62.25 \r\nQ 35.15625 65.921875 28.609375 65.921875 \r\nQ 23.96875 65.921875 18.8125 64.3125 \r\nQ 13.671875 62.703125 7.8125 59.421875 \r\nL 7.8125 69.390625 \r\nQ 13.765625 71.78125 18.9375 73 \r\nQ 24.125 74.21875 28.421875 74.21875 \r\nQ 39.75 74.21875 46.484375 68.546875 \r\nQ 53.21875 62.890625 53.21875 53.421875 \r\nQ 53.21875 48.921875 51.53125 44.890625 \r\nQ 49.859375 40.875 45.40625 35.40625 \r\nQ 44.1875 33.984375 37.640625 27.21875 \r\nQ 31.109375 20.453125 19.1875 8.296875 \r\nz\r\n\" id=\"DejaVuSans-50\"/>\r\n       <path d=\"M 10.796875 72.90625 \r\nL 49.515625 72.90625 \r\nL 49.515625 64.59375 \r\nL 19.828125 64.59375 \r\nL 19.828125 46.734375 \r\nQ 21.96875 47.46875 24.109375 47.828125 \r\nQ 26.265625 48.1875 28.421875 48.1875 \r\nQ 40.625 48.1875 47.75 41.5 \r\nQ 54.890625 34.8125 54.890625 23.390625 \r\nQ 54.890625 11.625 47.5625 5.09375 \r\nQ 40.234375 -1.421875 26.90625 -1.421875 \r\nQ 22.3125 -1.421875 17.546875 -0.640625 \r\nQ 12.796875 0.140625 7.71875 1.703125 \r\nL 7.71875 11.625 \r\nQ 12.109375 9.234375 16.796875 8.0625 \r\nQ 21.484375 6.890625 26.703125 6.890625 \r\nQ 35.15625 6.890625 40.078125 11.328125 \r\nQ 45.015625 15.765625 45.015625 23.390625 \r\nQ 45.015625 31 40.078125 35.4375 \r\nQ 35.15625 39.890625 26.703125 39.890625 \r\nQ 22.75 39.890625 18.8125 39.015625 \r\nQ 14.890625 38.140625 10.796875 36.28125 \r\nz\r\n\" id=\"DejaVuSans-53\"/>\r\n      </defs>\r\n      <g transform=\"translate(59.743438 249.836875)scale(0.1 -0.1)\">\r\n       <use xlink:href=\"#DejaVuSans-50\"/>\r\n       <use x=\"63.623047\" xlink:href=\"#DejaVuSans-46\"/>\r\n       <use x=\"95.410156\" xlink:href=\"#DejaVuSans-53\"/>\r\n      </g>\r\n     </g>\r\n    </g>\r\n    <g id=\"xtick_3\">\r\n     <g id=\"line2d_3\">\r\n      <g>\r\n       <use style=\"stroke:#000000;stroke-width:0.8;\" x=\"101.67\" xlink:href=\"#m6e1b2c923d\" y=\"235.238437\"/>\r\n      </g>\r\n     </g>\r\n     <g id=\"text_3\">\r\n      <!-- 5.0 -->\r\n      <g transform=\"translate(93.718438 249.836875)scale(0.1 -0.1)\">\r\n       <use xlink:href=\"#DejaVuSans-53\"/>\r\n       <use x=\"63.623047\" xlink:href=\"#DejaVuSans-46\"/>\r\n       <use x=\"95.410156\" xlink:href=\"#DejaVuSans-48\"/>\r\n      </g>\r\n     </g>\r\n    </g>\r\n    <g id=\"xtick_4\">\r\n     <g id=\"line2d_4\">\r\n      <g>\r\n       <use style=\"stroke:#000000;stroke-width:0.8;\" x=\"135.645\" xlink:href=\"#m6e1b2c923d\" y=\"235.238437\"/>\r\n      </g>\r\n     </g>\r\n     <g id=\"text_4\">\r\n      <!-- 7.5 -->\r\n      <defs>\r\n       <path d=\"M 8.203125 72.90625 \r\nL 55.078125 72.90625 \r\nL 55.078125 68.703125 \r\nL 28.609375 0 \r\nL 18.3125 0 \r\nL 43.21875 64.59375 \r\nL 8.203125 64.59375 \r\nz\r\n\" id=\"DejaVuSans-55\"/>\r\n      </defs>\r\n      <g transform=\"translate(127.693437 249.836875)scale(0.1 -0.1)\">\r\n       <use xlink:href=\"#DejaVuSans-55\"/>\r\n       <use x=\"63.623047\" xlink:href=\"#DejaVuSans-46\"/>\r\n       <use x=\"95.410156\" xlink:href=\"#DejaVuSans-53\"/>\r\n      </g>\r\n     </g>\r\n    </g>\r\n    <g id=\"xtick_5\">\r\n     <g id=\"line2d_5\">\r\n      <g>\r\n       <use style=\"stroke:#000000;stroke-width:0.8;\" x=\"169.62\" xlink:href=\"#m6e1b2c923d\" y=\"235.238437\"/>\r\n      </g>\r\n     </g>\r\n     <g id=\"text_5\">\r\n      <!-- 10.0 -->\r\n      <defs>\r\n       <path d=\"M 12.40625 8.296875 \r\nL 28.515625 8.296875 \r\nL 28.515625 63.921875 \r\nL 10.984375 60.40625 \r\nL 10.984375 69.390625 \r\nL 28.421875 72.90625 \r\nL 38.28125 72.90625 \r\nL 38.28125 8.296875 \r\nL 54.390625 8.296875 \r\nL 54.390625 0 \r\nL 12.40625 0 \r\nz\r\n\" id=\"DejaVuSans-49\"/>\r\n      </defs>\r\n      <g transform=\"translate(158.487188 249.836875)scale(0.1 -0.1)\">\r\n       <use xlink:href=\"#DejaVuSans-49\"/>\r\n       <use x=\"63.623047\" xlink:href=\"#DejaVuSans-48\"/>\r\n       <use x=\"127.246094\" xlink:href=\"#DejaVuSans-46\"/>\r\n       <use x=\"159.033203\" xlink:href=\"#DejaVuSans-48\"/>\r\n      </g>\r\n     </g>\r\n    </g>\r\n    <g id=\"xtick_6\">\r\n     <g id=\"line2d_6\">\r\n      <g>\r\n       <use style=\"stroke:#000000;stroke-width:0.8;\" x=\"203.595\" xlink:href=\"#m6e1b2c923d\" y=\"235.238437\"/>\r\n      </g>\r\n     </g>\r\n     <g id=\"text_6\">\r\n      <!-- 12.5 -->\r\n      <g transform=\"translate(192.462187 249.836875)scale(0.1 -0.1)\">\r\n       <use xlink:href=\"#DejaVuSans-49\"/>\r\n       <use x=\"63.623047\" xlink:href=\"#DejaVuSans-50\"/>\r\n       <use x=\"127.246094\" xlink:href=\"#DejaVuSans-46\"/>\r\n       <use x=\"159.033203\" xlink:href=\"#DejaVuSans-53\"/>\r\n      </g>\r\n     </g>\r\n    </g>\r\n    <g id=\"xtick_7\">\r\n     <g id=\"line2d_7\">\r\n      <g>\r\n       <use style=\"stroke:#000000;stroke-width:0.8;\" x=\"237.57\" xlink:href=\"#m6e1b2c923d\" y=\"235.238437\"/>\r\n      </g>\r\n     </g>\r\n     <g id=\"text_7\">\r\n      <!-- 15.0 -->\r\n      <g transform=\"translate(226.437187 249.836875)scale(0.1 -0.1)\">\r\n       <use xlink:href=\"#DejaVuSans-49\"/>\r\n       <use x=\"63.623047\" xlink:href=\"#DejaVuSans-53\"/>\r\n       <use x=\"127.246094\" xlink:href=\"#DejaVuSans-46\"/>\r\n       <use x=\"159.033203\" xlink:href=\"#DejaVuSans-48\"/>\r\n      </g>\r\n     </g>\r\n    </g>\r\n   </g>\r\n   <g id=\"matplotlib.axis_2\">\r\n    <g id=\"ytick_1\">\r\n     <g id=\"line2d_8\">\r\n      <defs>\r\n       <path d=\"M 0 0 \r\nL -3.5 0 \r\n\" id=\"m353f74a0a7\" style=\"stroke:#000000;stroke-width:0.8;\"/>\r\n      </defs>\r\n      <g>\r\n       <use style=\"stroke:#000000;stroke-width:0.8;\" x=\"26.925\" xlink:href=\"#m353f74a0a7\" y=\"228.443437\"/>\r\n      </g>\r\n     </g>\r\n     <g id=\"text_8\">\r\n      <!-- 0 -->\r\n      <g transform=\"translate(13.5625 232.242656)scale(0.1 -0.1)\">\r\n       <use xlink:href=\"#DejaVuSans-48\"/>\r\n      </g>\r\n     </g>\r\n    </g>\r\n    <g id=\"ytick_2\">\r\n     <g id=\"line2d_9\">\r\n      <g>\r\n       <use style=\"stroke:#000000;stroke-width:0.8;\" x=\"26.925\" xlink:href=\"#m353f74a0a7\" y=\"201.263437\"/>\r\n      </g>\r\n     </g>\r\n     <g id=\"text_9\">\r\n      <!-- 2 -->\r\n      <g transform=\"translate(13.5625 205.062656)scale(0.1 -0.1)\">\r\n       <use xlink:href=\"#DejaVuSans-50\"/>\r\n      </g>\r\n     </g>\r\n    </g>\r\n    <g id=\"ytick_3\">\r\n     <g id=\"line2d_10\">\r\n      <g>\r\n       <use style=\"stroke:#000000;stroke-width:0.8;\" x=\"26.925\" xlink:href=\"#m353f74a0a7\" y=\"174.083438\"/>\r\n      </g>\r\n     </g>\r\n     <g id=\"text_10\">\r\n      <!-- 4 -->\r\n      <defs>\r\n       <path d=\"M 37.796875 64.3125 \r\nL 12.890625 25.390625 \r\nL 37.796875 25.390625 \r\nz\r\nM 35.203125 72.90625 \r\nL 47.609375 72.90625 \r\nL 47.609375 25.390625 \r\nL 58.015625 25.390625 \r\nL 58.015625 17.1875 \r\nL 47.609375 17.1875 \r\nL 47.609375 0 \r\nL 37.796875 0 \r\nL 37.796875 17.1875 \r\nL 4.890625 17.1875 \r\nL 4.890625 26.703125 \r\nz\r\n\" id=\"DejaVuSans-52\"/>\r\n      </defs>\r\n      <g transform=\"translate(13.5625 177.882656)scale(0.1 -0.1)\">\r\n       <use xlink:href=\"#DejaVuSans-52\"/>\r\n      </g>\r\n     </g>\r\n    </g>\r\n    <g id=\"ytick_4\">\r\n     <g id=\"line2d_11\">\r\n      <g>\r\n       <use style=\"stroke:#000000;stroke-width:0.8;\" x=\"26.925\" xlink:href=\"#m353f74a0a7\" y=\"146.903437\"/>\r\n      </g>\r\n     </g>\r\n     <g id=\"text_11\">\r\n      <!-- 6 -->\r\n      <defs>\r\n       <path d=\"M 33.015625 40.375 \r\nQ 26.375 40.375 22.484375 35.828125 \r\nQ 18.609375 31.296875 18.609375 23.390625 \r\nQ 18.609375 15.53125 22.484375 10.953125 \r\nQ 26.375 6.390625 33.015625 6.390625 \r\nQ 39.65625 6.390625 43.53125 10.953125 \r\nQ 47.40625 15.53125 47.40625 23.390625 \r\nQ 47.40625 31.296875 43.53125 35.828125 \r\nQ 39.65625 40.375 33.015625 40.375 \r\nz\r\nM 52.59375 71.296875 \r\nL 52.59375 62.3125 \r\nQ 48.875 64.0625 45.09375 64.984375 \r\nQ 41.3125 65.921875 37.59375 65.921875 \r\nQ 27.828125 65.921875 22.671875 59.328125 \r\nQ 17.53125 52.734375 16.796875 39.40625 \r\nQ 19.671875 43.65625 24.015625 45.921875 \r\nQ 28.375 48.1875 33.59375 48.1875 \r\nQ 44.578125 48.1875 50.953125 41.515625 \r\nQ 57.328125 34.859375 57.328125 23.390625 \r\nQ 57.328125 12.15625 50.6875 5.359375 \r\nQ 44.046875 -1.421875 33.015625 -1.421875 \r\nQ 20.359375 -1.421875 13.671875 8.265625 \r\nQ 6.984375 17.96875 6.984375 36.375 \r\nQ 6.984375 53.65625 15.1875 63.9375 \r\nQ 23.390625 74.21875 37.203125 74.21875 \r\nQ 40.921875 74.21875 44.703125 73.484375 \r\nQ 48.484375 72.75 52.59375 71.296875 \r\nz\r\n\" id=\"DejaVuSans-54\"/>\r\n      </defs>\r\n      <g transform=\"translate(13.5625 150.702656)scale(0.1 -0.1)\">\r\n       <use xlink:href=\"#DejaVuSans-54\"/>\r\n      </g>\r\n     </g>\r\n    </g>\r\n    <g id=\"ytick_5\">\r\n     <g id=\"line2d_12\">\r\n      <g>\r\n       <use style=\"stroke:#000000;stroke-width:0.8;\" x=\"26.925\" xlink:href=\"#m353f74a0a7\" y=\"119.723437\"/>\r\n      </g>\r\n     </g>\r\n     <g id=\"text_12\">\r\n      <!-- 8 -->\r\n      <defs>\r\n       <path d=\"M 31.78125 34.625 \r\nQ 24.75 34.625 20.71875 30.859375 \r\nQ 16.703125 27.09375 16.703125 20.515625 \r\nQ 16.703125 13.921875 20.71875 10.15625 \r\nQ 24.75 6.390625 31.78125 6.390625 \r\nQ 38.8125 6.390625 42.859375 10.171875 \r\nQ 46.921875 13.96875 46.921875 20.515625 \r\nQ 46.921875 27.09375 42.890625 30.859375 \r\nQ 38.875 34.625 31.78125 34.625 \r\nz\r\nM 21.921875 38.8125 \r\nQ 15.578125 40.375 12.03125 44.71875 \r\nQ 8.5 49.078125 8.5 55.328125 \r\nQ 8.5 64.0625 14.71875 69.140625 \r\nQ 20.953125 74.21875 31.78125 74.21875 \r\nQ 42.671875 74.21875 48.875 69.140625 \r\nQ 55.078125 64.0625 55.078125 55.328125 \r\nQ 55.078125 49.078125 51.53125 44.71875 \r\nQ 48 40.375 41.703125 38.8125 \r\nQ 48.828125 37.15625 52.796875 32.3125 \r\nQ 56.78125 27.484375 56.78125 20.515625 \r\nQ 56.78125 9.90625 50.3125 4.234375 \r\nQ 43.84375 -1.421875 31.78125 -1.421875 \r\nQ 19.734375 -1.421875 13.25 4.234375 \r\nQ 6.78125 9.90625 6.78125 20.515625 \r\nQ 6.78125 27.484375 10.78125 32.3125 \r\nQ 14.796875 37.15625 21.921875 38.8125 \r\nz\r\nM 18.3125 54.390625 \r\nQ 18.3125 48.734375 21.84375 45.5625 \r\nQ 25.390625 42.390625 31.78125 42.390625 \r\nQ 38.140625 42.390625 41.71875 45.5625 \r\nQ 45.3125 48.734375 45.3125 54.390625 \r\nQ 45.3125 60.0625 41.71875 63.234375 \r\nQ 38.140625 66.40625 31.78125 66.40625 \r\nQ 25.390625 66.40625 21.84375 63.234375 \r\nQ 18.3125 60.0625 18.3125 54.390625 \r\nz\r\n\" id=\"DejaVuSans-56\"/>\r\n      </defs>\r\n      <g transform=\"translate(13.5625 123.522656)scale(0.1 -0.1)\">\r\n       <use xlink:href=\"#DejaVuSans-56\"/>\r\n      </g>\r\n     </g>\r\n    </g>\r\n    <g id=\"ytick_6\">\r\n     <g id=\"line2d_13\">\r\n      <g>\r\n       <use style=\"stroke:#000000;stroke-width:0.8;\" x=\"26.925\" xlink:href=\"#m353f74a0a7\" y=\"92.543437\"/>\r\n      </g>\r\n     </g>\r\n     <g id=\"text_13\">\r\n      <!-- 10 -->\r\n      <g transform=\"translate(7.2 96.342656)scale(0.1 -0.1)\">\r\n       <use xlink:href=\"#DejaVuSans-49\"/>\r\n       <use x=\"63.623047\" xlink:href=\"#DejaVuSans-48\"/>\r\n      </g>\r\n     </g>\r\n    </g>\r\n    <g id=\"ytick_7\">\r\n     <g id=\"line2d_14\">\r\n      <g>\r\n       <use style=\"stroke:#000000;stroke-width:0.8;\" x=\"26.925\" xlink:href=\"#m353f74a0a7\" y=\"65.363438\"/>\r\n      </g>\r\n     </g>\r\n     <g id=\"text_14\">\r\n      <!-- 12 -->\r\n      <g transform=\"translate(7.2 69.162656)scale(0.1 -0.1)\">\r\n       <use xlink:href=\"#DejaVuSans-49\"/>\r\n       <use x=\"63.623047\" xlink:href=\"#DejaVuSans-50\"/>\r\n      </g>\r\n     </g>\r\n    </g>\r\n    <g id=\"ytick_8\">\r\n     <g id=\"line2d_15\">\r\n      <g>\r\n       <use style=\"stroke:#000000;stroke-width:0.8;\" x=\"26.925\" xlink:href=\"#m353f74a0a7\" y=\"38.183437\"/>\r\n      </g>\r\n     </g>\r\n     <g id=\"text_15\">\r\n      <!-- 14 -->\r\n      <g transform=\"translate(7.2 41.982656)scale(0.1 -0.1)\">\r\n       <use xlink:href=\"#DejaVuSans-49\"/>\r\n       <use x=\"63.623047\" xlink:href=\"#DejaVuSans-52\"/>\r\n      </g>\r\n     </g>\r\n    </g>\r\n   </g>\r\n   <g id=\"patch_3\">\r\n    <path d=\"M 26.925 235.238437 \r\nL 26.925 17.798437 \r\n\" style=\"fill:none;stroke:#000000;stroke-linecap:square;stroke-linejoin:miter;stroke-width:0.8;\"/>\r\n   </g>\r\n   <g id=\"patch_4\">\r\n    <path d=\"M 244.365 235.238437 \r\nL 244.365 17.798437 \r\n\" style=\"fill:none;stroke:#000000;stroke-linecap:square;stroke-linejoin:miter;stroke-width:0.8;\"/>\r\n   </g>\r\n   <g id=\"patch_5\">\r\n    <path d=\"M 26.925 235.238437 \r\nL 244.365 235.238437 \r\n\" style=\"fill:none;stroke:#000000;stroke-linecap:square;stroke-linejoin:miter;stroke-width:0.8;\"/>\r\n   </g>\r\n   <g id=\"patch_6\">\r\n    <path d=\"M 26.925 17.798437 \r\nL 244.365 17.798437 \r\n\" style=\"fill:none;stroke:#000000;stroke-linecap:square;stroke-linejoin:miter;stroke-width:0.8;\"/>\r\n   </g>\r\n  </g>\r\n  <g id=\"axes_2\">\r\n   <g id=\"patch_7\">\r\n    <path clip-path=\"url(#p82a6edc133)\" d=\"M 261.105 235.238437 \r\nL 261.105 234.389062 \r\nL 261.105 18.647812 \r\nL 261.105 17.798437 \r\nL 271.977 17.798437 \r\nL 271.977 18.647812 \r\nL 271.977 234.389062 \r\nL 271.977 235.238437 \r\nz\r\n\" style=\"fill:#ffffff;stroke:#ffffff;stroke-linejoin:miter;stroke-width:0.01;\"/>\r\n   </g>\r\n   <image height=\"217\" id=\"imageb3026c10c1\" transform=\"scale(1 -1)translate(0 -217)\" width=\"11\" x=\"261\" xlink:href=\"data:image/png;base64,\r\niVBORw0KGgoAAAANSUhEUgAAAAsAAADZCAYAAAD2WsoCAAAABHNCSVQICAgIfAhkiAAAAUhJREFUaIHdmsENAjEMBGM7R2XUQP+NQGjB8xjJd7yt1e6sQ9Bx8c7PWc3Pjozu7Norsj/MlKuIDaAcCTwj5aUpB6LBGtSGh3AWaWg2RHQWjcNstGdNGqJn7VidmtFgf9YMeDQbKKC3SIccWI8GVAbDcJ+J8h1piHUjG5qyRsPcDUvZ5HxDdDO2boqyR6M/iy96YgPdg5qN59f9eHQ3DOjVvaJ/vsegux8N4JgHBJ69UkTOM2iAn0huKV7AEcrgORmkwWzMQJdiQIuG5zmTDHs2loWu8gdseAFFGmB4azS8gJ4NRkP0bJWymTIYLrFui8YVX0kZ0rACFlG+ktAgDZa3dcQGrBvZGNEg4sxoMBtWQFTKSwyo7YZ2rK4FaMCA1j3Ilp99FXgB27NUuS+89ov83YCUiymD4SLDSPkK8LoO80zeOUnwkOoPXoiBaF8nrs8AAAAASUVORK5CYII=\" y=\"-18\"/>\r\n   <g id=\"matplotlib.axis_3\"/>\r\n   <g id=\"matplotlib.axis_4\">\r\n    <g id=\"ytick_9\">\r\n     <g id=\"line2d_16\">\r\n      <defs>\r\n       <path d=\"M 0 0 \r\nL 3.5 0 \r\n\" id=\"mb1f1557805\" style=\"stroke:#000000;stroke-width:0.8;\"/>\r\n      </defs>\r\n      <g>\r\n       <use style=\"stroke:#000000;stroke-width:0.8;\" x=\"271.977\" xlink:href=\"#mb1f1557805\" y=\"211.974925\"/>\r\n      </g>\r\n     </g>\r\n     <g id=\"text_16\">\r\n      <!-- −4 -->\r\n      <defs>\r\n       <path d=\"M 10.59375 35.5 \r\nL 73.1875 35.5 \r\nL 73.1875 27.203125 \r\nL 10.59375 27.203125 \r\nz\r\n\" id=\"DejaVuSans-8722\"/>\r\n      </defs>\r\n      <g transform=\"translate(278.977 215.774144)scale(0.1 -0.1)\">\r\n       <use xlink:href=\"#DejaVuSans-8722\"/>\r\n       <use x=\"83.789062\" xlink:href=\"#DejaVuSans-52\"/>\r\n      </g>\r\n     </g>\r\n    </g>\r\n    <g id=\"ytick_10\">\r\n     <g id=\"line2d_17\">\r\n      <g>\r\n       <use style=\"stroke:#000000;stroke-width:0.8;\" x=\"271.977\" xlink:href=\"#mb1f1557805\" y=\"171.484217\"/>\r\n      </g>\r\n     </g>\r\n     <g id=\"text_17\">\r\n      <!-- −2 -->\r\n      <g transform=\"translate(278.977 175.283436)scale(0.1 -0.1)\">\r\n       <use xlink:href=\"#DejaVuSans-8722\"/>\r\n       <use x=\"83.789062\" xlink:href=\"#DejaVuSans-50\"/>\r\n      </g>\r\n     </g>\r\n    </g>\r\n    <g id=\"ytick_11\">\r\n     <g id=\"line2d_18\">\r\n      <g>\r\n       <use style=\"stroke:#000000;stroke-width:0.8;\" x=\"271.977\" xlink:href=\"#mb1f1557805\" y=\"130.99351\"/>\r\n      </g>\r\n     </g>\r\n     <g id=\"text_18\">\r\n      <!-- 0 -->\r\n      <g transform=\"translate(278.977 134.792728)scale(0.1 -0.1)\">\r\n       <use xlink:href=\"#DejaVuSans-48\"/>\r\n      </g>\r\n     </g>\r\n    </g>\r\n    <g id=\"ytick_12\">\r\n     <g id=\"line2d_19\">\r\n      <g>\r\n       <use style=\"stroke:#000000;stroke-width:0.8;\" x=\"271.977\" xlink:href=\"#mb1f1557805\" y=\"90.502802\"/>\r\n      </g>\r\n     </g>\r\n     <g id=\"text_19\">\r\n      <!-- 2 -->\r\n      <g transform=\"translate(278.977 94.302021)scale(0.1 -0.1)\">\r\n       <use xlink:href=\"#DejaVuSans-50\"/>\r\n      </g>\r\n     </g>\r\n    </g>\r\n    <g id=\"ytick_13\">\r\n     <g id=\"line2d_20\">\r\n      <g>\r\n       <use style=\"stroke:#000000;stroke-width:0.8;\" x=\"271.977\" xlink:href=\"#mb1f1557805\" y=\"50.012094\"/>\r\n      </g>\r\n     </g>\r\n     <g id=\"text_20\">\r\n      <!-- 4 -->\r\n      <g transform=\"translate(278.977 53.811313)scale(0.1 -0.1)\">\r\n       <use xlink:href=\"#DejaVuSans-52\"/>\r\n      </g>\r\n     </g>\r\n    </g>\r\n    <g id=\"text_21\">\r\n     <!-- 1e−12 -->\r\n     <defs>\r\n      <path d=\"M 56.203125 29.59375 \r\nL 56.203125 25.203125 \r\nL 14.890625 25.203125 \r\nQ 15.484375 15.921875 20.484375 11.0625 \r\nQ 25.484375 6.203125 34.421875 6.203125 \r\nQ 39.59375 6.203125 44.453125 7.46875 \r\nQ 49.3125 8.734375 54.109375 11.28125 \r\nL 54.109375 2.78125 \r\nQ 49.265625 0.734375 44.1875 -0.34375 \r\nQ 39.109375 -1.421875 33.890625 -1.421875 \r\nQ 20.796875 -1.421875 13.15625 6.1875 \r\nQ 5.515625 13.8125 5.515625 26.8125 \r\nQ 5.515625 40.234375 12.765625 48.109375 \r\nQ 20.015625 56 32.328125 56 \r\nQ 43.359375 56 49.78125 48.890625 \r\nQ 56.203125 41.796875 56.203125 29.59375 \r\nz\r\nM 47.21875 32.234375 \r\nQ 47.125 39.59375 43.09375 43.984375 \r\nQ 39.0625 48.390625 32.421875 48.390625 \r\nQ 24.90625 48.390625 20.390625 44.140625 \r\nQ 15.875 39.890625 15.1875 32.171875 \r\nz\r\n\" id=\"DejaVuSans-101\"/>\r\n     </defs>\r\n     <g transform=\"translate(238.356687 14.798437)scale(0.1 -0.1)\">\r\n      <use xlink:href=\"#DejaVuSans-49\"/>\r\n      <use x=\"63.623047\" xlink:href=\"#DejaVuSans-101\"/>\r\n      <use x=\"125.146484\" xlink:href=\"#DejaVuSans-8722\"/>\r\n      <use x=\"208.935547\" xlink:href=\"#DejaVuSans-49\"/>\r\n      <use x=\"272.558594\" xlink:href=\"#DejaVuSans-50\"/>\r\n     </g>\r\n    </g>\r\n   </g>\r\n   <g id=\"patch_8\">\r\n    <path d=\"M 261.105 235.238437 \r\nL 261.105 234.389062 \r\nL 261.105 18.647812 \r\nL 261.105 17.798437 \r\nL 271.977 17.798437 \r\nL 271.977 18.647812 \r\nL 271.977 234.389062 \r\nL 271.977 235.238437 \r\nz\r\n\" style=\"fill:none;stroke:#000000;stroke-linejoin:miter;stroke-width:0.8;\"/>\r\n   </g>\r\n  </g>\r\n </g>\r\n <defs>\r\n  <clipPath id=\"p361182c98c\">\r\n   <rect height=\"217.44\" width=\"217.44\" x=\"26.925\" y=\"17.798437\"/>\r\n  </clipPath>\r\n  <clipPath id=\"p82a6edc133\">\r\n   <rect height=\"217.44\" width=\"10.872\" x=\"261.105\" y=\"17.798437\"/>\r\n  </clipPath>\r\n </defs>\r\n</svg>\r\n",
      "text/plain": [
       "<Figure size 432x288 with 2 Axes>"
      ]
     },
     "metadata": {
      "needs_background": "light"
     },
     "output_type": "display_data"
    }
   ],
   "source": [
    "\n",
    "\n",
    "divu = (u[1:-1,2:] - u[1:-1,1:-1])/dx + (v[2:,1:-1] - v[1:-1,1:-1])/dy\n",
    "plt.imshow(divu,origin='bottom')\n",
    "plt.colorbar()\n",
    "\n"
   ]
  },
  {
   "cell_type": "code",
   "execution_count": 8,
   "metadata": {},
   "outputs": [
    {
     "data": {
      "text/plain": [
       "<matplotlib.contour.QuadContourSet at 0x144fdd8>"
      ]
     },
     "execution_count": 8,
     "metadata": {},
     "output_type": "execute_result"
    },
    {
     "data": {
      "image/svg+xml": "<?xml version=\"1.0\" encoding=\"utf-8\" standalone=\"no\"?>\r\n<!DOCTYPE svg PUBLIC \"-//W3C//DTD SVG 1.1//EN\"\r\n  \"http://www.w3.org/Graphics/SVG/1.1/DTD/svg11.dtd\">\r\n<!-- Created with matplotlib (https://matplotlib.org/) -->\r\n<svg height=\"357.238125pt\" version=\"1.1\" viewBox=\"0 0 368.925 357.238125\" width=\"368.925pt\" xmlns=\"http://www.w3.org/2000/svg\" xmlns:xlink=\"http://www.w3.org/1999/xlink\">\r\n <defs>\r\n  <style type=\"text/css\">\r\n*{stroke-linecap:butt;stroke-linejoin:round;}\r\n  </style>\r\n </defs>\r\n <g id=\"figure_1\">\r\n  <g id=\"patch_1\">\r\n   <path d=\"M -0 357.238125 \r\nL 368.925 357.238125 \r\nL 368.925 0 \r\nL -0 0 \r\nz\r\n\" style=\"fill:none;\"/>\r\n  </g>\r\n  <g id=\"axes_1\">\r\n   <g id=\"patch_2\">\r\n    <path d=\"M 26.925 333.36 \r\nL 361.725 333.36 \r\nL 361.725 7.2 \r\nL 26.925 7.2 \r\nz\r\n\" style=\"fill:#ffffff;\"/>\r\n   </g>\r\n   <g id=\"PathCollection_1\">\r\n    <path clip-path=\"url(#p159bc157dd)\" d=\"M 49.245 333.36 \r\nL 71.565 333.36 \r\nL 93.885 333.36 \r\nL 116.205 333.36 \r\nL 138.525 333.36 \r\nL 160.845 333.36 \r\nL 183.165 333.36 \r\nL 205.485 333.36 \r\nL 227.805 333.36 \r\nL 250.125 333.36 \r\nL 272.445 333.36 \r\nL 294.765 333.36 \r\nL 317.085 333.36 \r\nL 339.405 333.36 \r\nL 361.725 333.36 \r\nL 361.725 311.616 \r\nL 361.725 289.872 \r\nL 361.725 268.128 \r\nL 361.725 246.384 \r\nL 361.725 224.64 \r\nL 361.725 202.896 \r\nL 361.725 181.152 \r\nL 361.725 159.408 \r\nL 361.725 137.664 \r\nL 361.725 115.92 \r\nL 361.725 95.806864 \r\nL 352.71691 94.176 \r\nL 339.405 92.192255 \r\nL 317.085 85.249404 \r\nL 294.765 75.554696 \r\nL 287.837838 72.432 \r\nL 272.445 64.297533 \r\nL 250.125 51.285532 \r\nL 248.833955 50.688 \r\nL 230.33684 28.944 \r\nL 227.805 28.912177 \r\nL 205.485 28.784806 \r\nL 183.165 28.785107 \r\nL 160.845 28.913136 \r\nL 158.396248 28.944 \r\nL 139.779609 50.688 \r\nL 138.525 51.267877 \r\nL 116.205 64.264074 \r\nL 100.713466 72.432 \r\nL 93.885 75.505178 \r\nL 71.565 85.193564 \r\nL 49.245 92.134098 \r\nL 35.474649 94.176 \r\nL 26.925 95.716913 \r\nL 26.925 115.92 \r\nL 26.925 137.664 \r\nL 26.925 159.408 \r\nL 26.925 181.152 \r\nL 26.925 202.896 \r\nL 26.925 224.64 \r\nL 26.925 246.384 \r\nL 26.925 268.128 \r\nL 26.925 289.872 \r\nL 26.925 311.616 \r\nL 26.925 333.36 \r\nz\r\n\" style=\"fill:#48186a;\"/>\r\n   </g>\r\n   <g id=\"PathCollection_2\">\r\n    <path clip-path=\"url(#p159bc157dd)\" d=\"M 35.474649 94.176 \r\nL 49.245 92.134098 \r\nL 71.565 85.193564 \r\nL 93.885 75.505178 \r\nL 100.713466 72.432 \r\nL 116.205 64.264074 \r\nL 138.525 51.267877 \r\nL 139.779609 50.688 \r\nL 158.396248 28.944 \r\nL 160.845 28.913136 \r\nL 183.165 28.785107 \r\nL 205.485 28.784806 \r\nL 227.805 28.912177 \r\nL 230.33684 28.944 \r\nL 248.833955 50.688 \r\nL 250.125 51.285532 \r\nL 272.445 64.297533 \r\nL 287.837838 72.432 \r\nL 294.765 75.554696 \r\nL 317.085 85.249404 \r\nL 339.405 92.192255 \r\nL 352.71691 94.176 \r\nL 361.725 95.806864 \r\nL 361.725 94.176 \r\nL 361.725 72.432 \r\nL 361.725 51.552242 \r\nL 360.081355 50.688 \r\nL 339.405 38.558591 \r\nL 328.325252 28.944 \r\nL 317.085 27.615325 \r\nL 294.765 26.426519 \r\nL 272.445 25.822357 \r\nL 250.125 25.486415 \r\nL 227.805 25.30261 \r\nL 205.485 25.220603 \r\nL 183.165 25.220716 \r\nL 160.845 25.302972 \r\nL 138.525 25.487109 \r\nL 116.205 25.823594 \r\nL 93.885 26.428871 \r\nL 71.565 27.620371 \r\nL 60.371635 28.944 \r\nL 49.245 38.548538 \r\nL 28.300173 50.688 \r\nL 26.925 51.408167 \r\nL 26.925 72.432 \r\nL 26.925 94.176 \r\nL 26.925 95.716913 \r\nz\r\n\" style=\"fill:#424086;\"/>\r\n   </g>\r\n   <g id=\"PathCollection_3\">\r\n    <path clip-path=\"url(#p159bc157dd)\" d=\"M 28.300173 50.688 \r\nL 49.245 38.548538 \r\nL 60.371635 28.944 \r\nL 71.565 27.620371 \r\nL 93.885 26.428871 \r\nL 116.205 25.823594 \r\nL 138.525 25.487109 \r\nL 160.845 25.302972 \r\nL 183.165 25.220716 \r\nL 205.485 25.220603 \r\nL 227.805 25.30261 \r\nL 250.125 25.486415 \r\nL 272.445 25.822357 \r\nL 294.765 26.426519 \r\nL 317.085 27.615325 \r\nL 328.325252 28.944 \r\nL 339.405 38.558591 \r\nL 360.081355 50.688 \r\nL 361.725 51.552242 \r\nL 361.725 50.688 \r\nL 361.725 33.86449 \r\nL 355.563052 28.944 \r\nL 339.405 22.667444 \r\nL 317.085 22.427908 \r\nL 294.765 22.127325 \r\nL 272.445 21.910626 \r\nL 250.125 21.772951 \r\nL 227.805 21.693042 \r\nL 205.485 21.656399 \r\nL 183.165 21.656326 \r\nL 160.845 21.692809 \r\nL 138.525 21.772517 \r\nL 116.205 21.90993 \r\nL 93.885 22.126322 \r\nL 71.565 22.426505 \r\nL 49.245 22.662009 \r\nL 33.01882 28.944 \r\nL 26.925 33.785526 \r\nL 26.925 50.688 \r\nL 26.925 51.408167 \r\nz\r\n\" style=\"fill:#33638d;\"/>\r\n    <path clip-path=\"url(#p159bc157dd)\" d=\"M 28.938572 7.2 \r\nL 26.925 7.2 \r\nL 26.925 15.764809 \r\nz\r\n\" style=\"fill:#33638d;\"/>\r\n    <path clip-path=\"url(#p159bc157dd)\" d=\"M 361.725 15.592363 \r\nL 361.725 7.2 \r\nL 359.746381 7.2 \r\nz\r\n\" style=\"fill:#33638d;\"/>\r\n   </g>\r\n   <g id=\"PathCollection_4\">\r\n    <path clip-path=\"url(#p159bc157dd)\" d=\"M 33.01882 28.944 \r\nL 49.245 22.662009 \r\nL 71.565 22.426505 \r\nL 93.885 22.126322 \r\nL 116.205 21.90993 \r\nL 138.525 21.772517 \r\nL 160.845 21.692809 \r\nL 183.165 21.656326 \r\nL 205.485 21.656399 \r\nL 227.805 21.693042 \r\nL 250.125 21.772951 \r\nL 272.445 21.910626 \r\nL 294.765 22.127325 \r\nL 317.085 22.427908 \r\nL 339.405 22.667444 \r\nL 355.563052 28.944 \r\nL 361.725 33.86449 \r\nL 361.725 28.944 \r\nL 361.725 15.592363 \r\nL 359.746381 7.2 \r\nL 348.704103 7.2 \r\nL 339.405 14.270973 \r\nL 317.085 17.240491 \r\nL 294.765 17.828132 \r\nL 272.445 17.998895 \r\nL 250.125 18.059487 \r\nL 227.805 18.083475 \r\nL 205.485 18.092196 \r\nL 183.165 18.091935 \r\nL 160.845 18.082645 \r\nL 138.525 18.057925 \r\nL 116.205 17.996267 \r\nL 93.885 17.823773 \r\nL 71.565 17.232639 \r\nL 49.245 14.248718 \r\nL 39.98784 7.2 \r\nL 28.938572 7.2 \r\nL 26.925 15.764809 \r\nL 26.925 28.944 \r\nL 26.925 33.785526 \r\nz\r\n\" style=\"fill:#26828e;\"/>\r\n   </g>\r\n   <g id=\"PathCollection_5\">\r\n    <path clip-path=\"url(#p159bc157dd)\" d=\"M 49.245 14.248718 \r\nL 71.565 17.232639 \r\nL 93.885 17.823773 \r\nL 116.205 17.996267 \r\nL 138.525 18.057925 \r\nL 160.845 18.082645 \r\nL 183.165 18.091935 \r\nL 205.485 18.092196 \r\nL 227.805 18.083475 \r\nL 250.125 18.059487 \r\nL 272.445 17.998895 \r\nL 294.765 17.828132 \r\nL 317.085 17.240491 \r\nL 339.405 14.270973 \r\nL 348.704103 7.2 \r\nL 339.405 7.2 \r\nL 336.1825 7.2 \r\nL 317.085 12.053074 \r\nL 294.765 13.528939 \r\nL 272.445 14.087164 \r\nL 250.125 14.346023 \r\nL 227.805 14.473907 \r\nL 205.485 14.527992 \r\nL 183.165 14.527545 \r\nL 160.845 14.472481 \r\nL 138.525 14.343333 \r\nL 116.205 14.082603 \r\nL 93.885 13.521223 \r\nL 71.565 12.038774 \r\nL 52.554613 7.2 \r\nL 49.245 7.2 \r\nL 39.98784 7.2 \r\nz\r\n\" style=\"fill:#1fa088;\"/>\r\n   </g>\r\n   <g id=\"PathCollection_6\">\r\n    <path clip-path=\"url(#p159bc157dd)\" d=\"M 71.565 12.038774 \r\nL 93.885 13.521223 \r\nL 116.205 14.082603 \r\nL 138.525 14.343333 \r\nL 160.845 14.472481 \r\nL 183.165 14.527545 \r\nL 205.485 14.527992 \r\nL 227.805 14.473907 \r\nL 250.125 14.346023 \r\nL 272.445 14.087164 \r\nL 294.765 13.528939 \r\nL 317.085 12.053074 \r\nL 336.1825 7.2 \r\nL 317.085 7.2 \r\nL 314.403952 7.2 \r\nL 294.765 9.229746 \r\nL 272.445 10.175433 \r\nL 250.125 10.632559 \r\nL 227.805 10.86434 \r\nL 205.485 10.963789 \r\nL 183.165 10.963154 \r\nL 160.845 10.862318 \r\nL 138.525 10.628741 \r\nL 116.205 10.168939 \r\nL 93.885 9.218674 \r\nL 74.403748 7.2 \r\nL 71.565 7.2 \r\nL 52.554613 7.2 \r\nz\r\n\" style=\"fill:#3fbc73;\"/>\r\n   </g>\r\n   <g id=\"PathCollection_7\">\r\n    <path clip-path=\"url(#p159bc157dd)\" d=\"M 93.885 9.218674 \r\nL 116.205 10.168939 \r\nL 138.525 10.628741 \r\nL 160.845 10.862318 \r\nL 183.165 10.963154 \r\nL 205.485 10.963789 \r\nL 227.805 10.86434 \r\nL 250.125 10.632559 \r\nL 272.445 10.175433 \r\nL 294.765 9.229746 \r\nL 314.403952 7.2 \r\nL 294.765 7.2 \r\nL 272.445 7.2 \r\nL 250.125 7.2 \r\nL 231.534264 7.2 \r\nL 227.805 7.254773 \r\nL 205.485 7.399585 \r\nL 183.165 7.398764 \r\nL 160.845 7.252154 \r\nL 157.317166 7.2 \r\nL 138.525 7.2 \r\nL 116.205 7.2 \r\nL 93.885 7.2 \r\nL 74.403748 7.2 \r\nz\r\n\" style=\"fill:#84d44b;\"/>\r\n   </g>\r\n   <g id=\"PathCollection_8\">\r\n    <path clip-path=\"url(#p159bc157dd)\" d=\"M 160.845 7.252154 \r\nL 183.165 7.398764 \r\nL 205.485 7.399585 \r\nL 227.805 7.254773 \r\nL 231.534264 7.2 \r\nL 227.805 7.2 \r\nL 205.485 7.2 \r\nL 183.165 7.2 \r\nL 160.845 7.2 \r\nL 157.317166 7.2 \r\nz\r\n\" style=\"fill:#d8e219;\"/>\r\n   </g>\r\n   <g id=\"matplotlib.axis_1\">\r\n    <g id=\"xtick_1\">\r\n     <g id=\"line2d_1\">\r\n      <defs>\r\n       <path d=\"M 0 0 \r\nL 0 3.5 \r\n\" id=\"md6380c491e\" style=\"stroke:#000000;stroke-width:0.8;\"/>\r\n      </defs>\r\n      <g>\r\n       <use style=\"stroke:#000000;stroke-width:0.8;\" x=\"26.925\" xlink:href=\"#md6380c491e\" y=\"333.36\"/>\r\n      </g>\r\n     </g>\r\n     <g id=\"text_1\">\r\n      <!-- 0 -->\r\n      <defs>\r\n       <path d=\"M 31.78125 66.40625 \r\nQ 24.171875 66.40625 20.328125 58.90625 \r\nQ 16.5 51.421875 16.5 36.375 \r\nQ 16.5 21.390625 20.328125 13.890625 \r\nQ 24.171875 6.390625 31.78125 6.390625 \r\nQ 39.453125 6.390625 43.28125 13.890625 \r\nQ 47.125 21.390625 47.125 36.375 \r\nQ 47.125 51.421875 43.28125 58.90625 \r\nQ 39.453125 66.40625 31.78125 66.40625 \r\nz\r\nM 31.78125 74.21875 \r\nQ 44.046875 74.21875 50.515625 64.515625 \r\nQ 56.984375 54.828125 56.984375 36.375 \r\nQ 56.984375 17.96875 50.515625 8.265625 \r\nQ 44.046875 -1.421875 31.78125 -1.421875 \r\nQ 19.53125 -1.421875 13.0625 8.265625 \r\nQ 6.59375 17.96875 6.59375 36.375 \r\nQ 6.59375 54.828125 13.0625 64.515625 \r\nQ 19.53125 74.21875 31.78125 74.21875 \r\nz\r\n\" id=\"DejaVuSans-48\"/>\r\n      </defs>\r\n      <g transform=\"translate(23.74375 347.958438)scale(0.1 -0.1)\">\r\n       <use xlink:href=\"#DejaVuSans-48\"/>\r\n      </g>\r\n     </g>\r\n    </g>\r\n    <g id=\"xtick_2\">\r\n     <g id=\"line2d_2\">\r\n      <g>\r\n       <use style=\"stroke:#000000;stroke-width:0.8;\" x=\"71.565\" xlink:href=\"#md6380c491e\" y=\"333.36\"/>\r\n      </g>\r\n     </g>\r\n     <g id=\"text_2\">\r\n      <!-- 2 -->\r\n      <defs>\r\n       <path d=\"M 19.1875 8.296875 \r\nL 53.609375 8.296875 \r\nL 53.609375 0 \r\nL 7.328125 0 \r\nL 7.328125 8.296875 \r\nQ 12.9375 14.109375 22.625 23.890625 \r\nQ 32.328125 33.6875 34.8125 36.53125 \r\nQ 39.546875 41.84375 41.421875 45.53125 \r\nQ 43.3125 49.21875 43.3125 52.78125 \r\nQ 43.3125 58.59375 39.234375 62.25 \r\nQ 35.15625 65.921875 28.609375 65.921875 \r\nQ 23.96875 65.921875 18.8125 64.3125 \r\nQ 13.671875 62.703125 7.8125 59.421875 \r\nL 7.8125 69.390625 \r\nQ 13.765625 71.78125 18.9375 73 \r\nQ 24.125 74.21875 28.421875 74.21875 \r\nQ 39.75 74.21875 46.484375 68.546875 \r\nQ 53.21875 62.890625 53.21875 53.421875 \r\nQ 53.21875 48.921875 51.53125 44.890625 \r\nQ 49.859375 40.875 45.40625 35.40625 \r\nQ 44.1875 33.984375 37.640625 27.21875 \r\nQ 31.109375 20.453125 19.1875 8.296875 \r\nz\r\n\" id=\"DejaVuSans-50\"/>\r\n      </defs>\r\n      <g transform=\"translate(68.38375 347.958438)scale(0.1 -0.1)\">\r\n       <use xlink:href=\"#DejaVuSans-50\"/>\r\n      </g>\r\n     </g>\r\n    </g>\r\n    <g id=\"xtick_3\">\r\n     <g id=\"line2d_3\">\r\n      <g>\r\n       <use style=\"stroke:#000000;stroke-width:0.8;\" x=\"116.205\" xlink:href=\"#md6380c491e\" y=\"333.36\"/>\r\n      </g>\r\n     </g>\r\n     <g id=\"text_3\">\r\n      <!-- 4 -->\r\n      <defs>\r\n       <path d=\"M 37.796875 64.3125 \r\nL 12.890625 25.390625 \r\nL 37.796875 25.390625 \r\nz\r\nM 35.203125 72.90625 \r\nL 47.609375 72.90625 \r\nL 47.609375 25.390625 \r\nL 58.015625 25.390625 \r\nL 58.015625 17.1875 \r\nL 47.609375 17.1875 \r\nL 47.609375 0 \r\nL 37.796875 0 \r\nL 37.796875 17.1875 \r\nL 4.890625 17.1875 \r\nL 4.890625 26.703125 \r\nz\r\n\" id=\"DejaVuSans-52\"/>\r\n      </defs>\r\n      <g transform=\"translate(113.02375 347.958438)scale(0.1 -0.1)\">\r\n       <use xlink:href=\"#DejaVuSans-52\"/>\r\n      </g>\r\n     </g>\r\n    </g>\r\n    <g id=\"xtick_4\">\r\n     <g id=\"line2d_4\">\r\n      <g>\r\n       <use style=\"stroke:#000000;stroke-width:0.8;\" x=\"160.845\" xlink:href=\"#md6380c491e\" y=\"333.36\"/>\r\n      </g>\r\n     </g>\r\n     <g id=\"text_4\">\r\n      <!-- 6 -->\r\n      <defs>\r\n       <path d=\"M 33.015625 40.375 \r\nQ 26.375 40.375 22.484375 35.828125 \r\nQ 18.609375 31.296875 18.609375 23.390625 \r\nQ 18.609375 15.53125 22.484375 10.953125 \r\nQ 26.375 6.390625 33.015625 6.390625 \r\nQ 39.65625 6.390625 43.53125 10.953125 \r\nQ 47.40625 15.53125 47.40625 23.390625 \r\nQ 47.40625 31.296875 43.53125 35.828125 \r\nQ 39.65625 40.375 33.015625 40.375 \r\nz\r\nM 52.59375 71.296875 \r\nL 52.59375 62.3125 \r\nQ 48.875 64.0625 45.09375 64.984375 \r\nQ 41.3125 65.921875 37.59375 65.921875 \r\nQ 27.828125 65.921875 22.671875 59.328125 \r\nQ 17.53125 52.734375 16.796875 39.40625 \r\nQ 19.671875 43.65625 24.015625 45.921875 \r\nQ 28.375 48.1875 33.59375 48.1875 \r\nQ 44.578125 48.1875 50.953125 41.515625 \r\nQ 57.328125 34.859375 57.328125 23.390625 \r\nQ 57.328125 12.15625 50.6875 5.359375 \r\nQ 44.046875 -1.421875 33.015625 -1.421875 \r\nQ 20.359375 -1.421875 13.671875 8.265625 \r\nQ 6.984375 17.96875 6.984375 36.375 \r\nQ 6.984375 53.65625 15.1875 63.9375 \r\nQ 23.390625 74.21875 37.203125 74.21875 \r\nQ 40.921875 74.21875 44.703125 73.484375 \r\nQ 48.484375 72.75 52.59375 71.296875 \r\nz\r\n\" id=\"DejaVuSans-54\"/>\r\n      </defs>\r\n      <g transform=\"translate(157.66375 347.958438)scale(0.1 -0.1)\">\r\n       <use xlink:href=\"#DejaVuSans-54\"/>\r\n      </g>\r\n     </g>\r\n    </g>\r\n    <g id=\"xtick_5\">\r\n     <g id=\"line2d_5\">\r\n      <g>\r\n       <use style=\"stroke:#000000;stroke-width:0.8;\" x=\"205.485\" xlink:href=\"#md6380c491e\" y=\"333.36\"/>\r\n      </g>\r\n     </g>\r\n     <g id=\"text_5\">\r\n      <!-- 8 -->\r\n      <defs>\r\n       <path d=\"M 31.78125 34.625 \r\nQ 24.75 34.625 20.71875 30.859375 \r\nQ 16.703125 27.09375 16.703125 20.515625 \r\nQ 16.703125 13.921875 20.71875 10.15625 \r\nQ 24.75 6.390625 31.78125 6.390625 \r\nQ 38.8125 6.390625 42.859375 10.171875 \r\nQ 46.921875 13.96875 46.921875 20.515625 \r\nQ 46.921875 27.09375 42.890625 30.859375 \r\nQ 38.875 34.625 31.78125 34.625 \r\nz\r\nM 21.921875 38.8125 \r\nQ 15.578125 40.375 12.03125 44.71875 \r\nQ 8.5 49.078125 8.5 55.328125 \r\nQ 8.5 64.0625 14.71875 69.140625 \r\nQ 20.953125 74.21875 31.78125 74.21875 \r\nQ 42.671875 74.21875 48.875 69.140625 \r\nQ 55.078125 64.0625 55.078125 55.328125 \r\nQ 55.078125 49.078125 51.53125 44.71875 \r\nQ 48 40.375 41.703125 38.8125 \r\nQ 48.828125 37.15625 52.796875 32.3125 \r\nQ 56.78125 27.484375 56.78125 20.515625 \r\nQ 56.78125 9.90625 50.3125 4.234375 \r\nQ 43.84375 -1.421875 31.78125 -1.421875 \r\nQ 19.734375 -1.421875 13.25 4.234375 \r\nQ 6.78125 9.90625 6.78125 20.515625 \r\nQ 6.78125 27.484375 10.78125 32.3125 \r\nQ 14.796875 37.15625 21.921875 38.8125 \r\nz\r\nM 18.3125 54.390625 \r\nQ 18.3125 48.734375 21.84375 45.5625 \r\nQ 25.390625 42.390625 31.78125 42.390625 \r\nQ 38.140625 42.390625 41.71875 45.5625 \r\nQ 45.3125 48.734375 45.3125 54.390625 \r\nQ 45.3125 60.0625 41.71875 63.234375 \r\nQ 38.140625 66.40625 31.78125 66.40625 \r\nQ 25.390625 66.40625 21.84375 63.234375 \r\nQ 18.3125 60.0625 18.3125 54.390625 \r\nz\r\n\" id=\"DejaVuSans-56\"/>\r\n      </defs>\r\n      <g transform=\"translate(202.30375 347.958438)scale(0.1 -0.1)\">\r\n       <use xlink:href=\"#DejaVuSans-56\"/>\r\n      </g>\r\n     </g>\r\n    </g>\r\n    <g id=\"xtick_6\">\r\n     <g id=\"line2d_6\">\r\n      <g>\r\n       <use style=\"stroke:#000000;stroke-width:0.8;\" x=\"250.125\" xlink:href=\"#md6380c491e\" y=\"333.36\"/>\r\n      </g>\r\n     </g>\r\n     <g id=\"text_6\">\r\n      <!-- 10 -->\r\n      <defs>\r\n       <path d=\"M 12.40625 8.296875 \r\nL 28.515625 8.296875 \r\nL 28.515625 63.921875 \r\nL 10.984375 60.40625 \r\nL 10.984375 69.390625 \r\nL 28.421875 72.90625 \r\nL 38.28125 72.90625 \r\nL 38.28125 8.296875 \r\nL 54.390625 8.296875 \r\nL 54.390625 0 \r\nL 12.40625 0 \r\nz\r\n\" id=\"DejaVuSans-49\"/>\r\n      </defs>\r\n      <g transform=\"translate(243.7625 347.958438)scale(0.1 -0.1)\">\r\n       <use xlink:href=\"#DejaVuSans-49\"/>\r\n       <use x=\"63.623047\" xlink:href=\"#DejaVuSans-48\"/>\r\n      </g>\r\n     </g>\r\n    </g>\r\n    <g id=\"xtick_7\">\r\n     <g id=\"line2d_7\">\r\n      <g>\r\n       <use style=\"stroke:#000000;stroke-width:0.8;\" x=\"294.765\" xlink:href=\"#md6380c491e\" y=\"333.36\"/>\r\n      </g>\r\n     </g>\r\n     <g id=\"text_7\">\r\n      <!-- 12 -->\r\n      <g transform=\"translate(288.4025 347.958438)scale(0.1 -0.1)\">\r\n       <use xlink:href=\"#DejaVuSans-49\"/>\r\n       <use x=\"63.623047\" xlink:href=\"#DejaVuSans-50\"/>\r\n      </g>\r\n     </g>\r\n    </g>\r\n    <g id=\"xtick_8\">\r\n     <g id=\"line2d_8\">\r\n      <g>\r\n       <use style=\"stroke:#000000;stroke-width:0.8;\" x=\"339.405\" xlink:href=\"#md6380c491e\" y=\"333.36\"/>\r\n      </g>\r\n     </g>\r\n     <g id=\"text_8\">\r\n      <!-- 14 -->\r\n      <g transform=\"translate(333.0425 347.958438)scale(0.1 -0.1)\">\r\n       <use xlink:href=\"#DejaVuSans-49\"/>\r\n       <use x=\"63.623047\" xlink:href=\"#DejaVuSans-52\"/>\r\n      </g>\r\n     </g>\r\n    </g>\r\n   </g>\r\n   <g id=\"matplotlib.axis_2\">\r\n    <g id=\"ytick_1\">\r\n     <g id=\"line2d_9\">\r\n      <defs>\r\n       <path d=\"M 0 0 \r\nL -3.5 0 \r\n\" id=\"mf7a27c9b3a\" style=\"stroke:#000000;stroke-width:0.8;\"/>\r\n      </defs>\r\n      <g>\r\n       <use style=\"stroke:#000000;stroke-width:0.8;\" x=\"26.925\" xlink:href=\"#mf7a27c9b3a\" y=\"333.36\"/>\r\n      </g>\r\n     </g>\r\n     <g id=\"text_9\">\r\n      <!-- 0 -->\r\n      <g transform=\"translate(13.5625 337.159219)scale(0.1 -0.1)\">\r\n       <use xlink:href=\"#DejaVuSans-48\"/>\r\n      </g>\r\n     </g>\r\n    </g>\r\n    <g id=\"ytick_2\">\r\n     <g id=\"line2d_10\">\r\n      <g>\r\n       <use style=\"stroke:#000000;stroke-width:0.8;\" x=\"26.925\" xlink:href=\"#mf7a27c9b3a\" y=\"289.872\"/>\r\n      </g>\r\n     </g>\r\n     <g id=\"text_10\">\r\n      <!-- 2 -->\r\n      <g transform=\"translate(13.5625 293.671219)scale(0.1 -0.1)\">\r\n       <use xlink:href=\"#DejaVuSans-50\"/>\r\n      </g>\r\n     </g>\r\n    </g>\r\n    <g id=\"ytick_3\">\r\n     <g id=\"line2d_11\">\r\n      <g>\r\n       <use style=\"stroke:#000000;stroke-width:0.8;\" x=\"26.925\" xlink:href=\"#mf7a27c9b3a\" y=\"246.384\"/>\r\n      </g>\r\n     </g>\r\n     <g id=\"text_11\">\r\n      <!-- 4 -->\r\n      <g transform=\"translate(13.5625 250.183219)scale(0.1 -0.1)\">\r\n       <use xlink:href=\"#DejaVuSans-52\"/>\r\n      </g>\r\n     </g>\r\n    </g>\r\n    <g id=\"ytick_4\">\r\n     <g id=\"line2d_12\">\r\n      <g>\r\n       <use style=\"stroke:#000000;stroke-width:0.8;\" x=\"26.925\" xlink:href=\"#mf7a27c9b3a\" y=\"202.896\"/>\r\n      </g>\r\n     </g>\r\n     <g id=\"text_12\">\r\n      <!-- 6 -->\r\n      <g transform=\"translate(13.5625 206.695219)scale(0.1 -0.1)\">\r\n       <use xlink:href=\"#DejaVuSans-54\"/>\r\n      </g>\r\n     </g>\r\n    </g>\r\n    <g id=\"ytick_5\">\r\n     <g id=\"line2d_13\">\r\n      <g>\r\n       <use style=\"stroke:#000000;stroke-width:0.8;\" x=\"26.925\" xlink:href=\"#mf7a27c9b3a\" y=\"159.408\"/>\r\n      </g>\r\n     </g>\r\n     <g id=\"text_13\">\r\n      <!-- 8 -->\r\n      <g transform=\"translate(13.5625 163.207219)scale(0.1 -0.1)\">\r\n       <use xlink:href=\"#DejaVuSans-56\"/>\r\n      </g>\r\n     </g>\r\n    </g>\r\n    <g id=\"ytick_6\">\r\n     <g id=\"line2d_14\">\r\n      <g>\r\n       <use style=\"stroke:#000000;stroke-width:0.8;\" x=\"26.925\" xlink:href=\"#mf7a27c9b3a\" y=\"115.92\"/>\r\n      </g>\r\n     </g>\r\n     <g id=\"text_14\">\r\n      <!-- 10 -->\r\n      <g transform=\"translate(7.2 119.719219)scale(0.1 -0.1)\">\r\n       <use xlink:href=\"#DejaVuSans-49\"/>\r\n       <use x=\"63.623047\" xlink:href=\"#DejaVuSans-48\"/>\r\n      </g>\r\n     </g>\r\n    </g>\r\n    <g id=\"ytick_7\">\r\n     <g id=\"line2d_15\">\r\n      <g>\r\n       <use style=\"stroke:#000000;stroke-width:0.8;\" x=\"26.925\" xlink:href=\"#mf7a27c9b3a\" y=\"72.432\"/>\r\n      </g>\r\n     </g>\r\n     <g id=\"text_15\">\r\n      <!-- 12 -->\r\n      <g transform=\"translate(7.2 76.231219)scale(0.1 -0.1)\">\r\n       <use xlink:href=\"#DejaVuSans-49\"/>\r\n       <use x=\"63.623047\" xlink:href=\"#DejaVuSans-50\"/>\r\n      </g>\r\n     </g>\r\n    </g>\r\n    <g id=\"ytick_8\">\r\n     <g id=\"line2d_16\">\r\n      <g>\r\n       <use style=\"stroke:#000000;stroke-width:0.8;\" x=\"26.925\" xlink:href=\"#mf7a27c9b3a\" y=\"28.944\"/>\r\n      </g>\r\n     </g>\r\n     <g id=\"text_16\">\r\n      <!-- 14 -->\r\n      <g transform=\"translate(7.2 32.743219)scale(0.1 -0.1)\">\r\n       <use xlink:href=\"#DejaVuSans-49\"/>\r\n       <use x=\"63.623047\" xlink:href=\"#DejaVuSans-52\"/>\r\n      </g>\r\n     </g>\r\n    </g>\r\n   </g>\r\n   <g id=\"patch_3\">\r\n    <path d=\"M 26.925 333.36 \r\nL 26.925 7.2 \r\n\" style=\"fill:none;stroke:#000000;stroke-linecap:square;stroke-linejoin:miter;stroke-width:0.8;\"/>\r\n   </g>\r\n   <g id=\"patch_4\">\r\n    <path d=\"M 361.725 333.36 \r\nL 361.725 7.2 \r\n\" style=\"fill:none;stroke:#000000;stroke-linecap:square;stroke-linejoin:miter;stroke-width:0.8;\"/>\r\n   </g>\r\n   <g id=\"patch_5\">\r\n    <path d=\"M 26.925 333.36 \r\nL 361.725 333.36 \r\n\" style=\"fill:none;stroke:#000000;stroke-linecap:square;stroke-linejoin:miter;stroke-width:0.8;\"/>\r\n   </g>\r\n   <g id=\"patch_6\">\r\n    <path d=\"M 26.925 7.2 \r\nL 361.725 7.2 \r\n\" style=\"fill:none;stroke:#000000;stroke-linecap:square;stroke-linejoin:miter;stroke-width:0.8;\"/>\r\n   </g>\r\n  </g>\r\n </g>\r\n <defs>\r\n  <clipPath id=\"p159bc157dd\">\r\n   <rect height=\"326.16\" width=\"334.8\" x=\"26.925\" y=\"7.2\"/>\r\n  </clipPath>\r\n </defs>\r\n</svg>\r\n",
      "text/plain": [
       "<Figure size 3600x3600 with 1 Axes>"
      ]
     },
     "metadata": {
      "needs_background": "light"
     },
     "output_type": "display_data"
    }
   ],
   "source": [
    "\n",
    "\n",
    "fig = plt.figure(figsize=[6,6],dpi=600)\n",
    "ucc = 0.5*(u[1:-1,2:] + u[1:-1,1:-1])\n",
    "vcc = 0.5*(v[2:,1:-1] + v[1:-1,1:-1])\n",
    "speed = np.sqrt(ucc*ucc + vcc*vcc)\n",
    "plt.contourf(speed)\n",
    "\n"
   ]
  },
  {
   "cell_type": "code",
   "execution_count": null,
   "metadata": {},
   "outputs": [],
   "source": []
  }
 ],
 "metadata": {
  "interpreter": {
   "hash": "33f6d2c96b4b5e4cdf0a485e0e50b0ac5485a349ab8a5f5aad4df38a767d21d0"
  },
  "kernelspec": {
   "display_name": "Python 3.8.2 32-bit",
   "language": "python",
   "name": "python3"
  },
  "language_info": {
   "codemirror_mode": {
    "name": "ipython",
    "version": 3
   },
   "file_extension": ".py",
   "mimetype": "text/x-python",
   "name": "python",
   "nbconvert_exporter": "python",
   "pygments_lexer": "ipython3",
   "version": "3.8.2"
  },
  "orig_nbformat": 4
 },
 "nbformat": 4,
 "nbformat_minor": 2
}

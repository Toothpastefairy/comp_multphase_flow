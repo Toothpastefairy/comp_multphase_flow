{
 "cells": [
  {
   "cell_type": "code",
   "execution_count": 1,
   "metadata": {},
   "outputs": [
    {
     "data": {
      "text/plain": [
       "<module 'functions' from 'c:\\\\Users\\\\brent\\\\Documents\\\\comp_multphase_flow\\\\functions.py'>"
      ]
     },
     "execution_count": 1,
     "metadata": {},
     "output_type": "execute_result"
    }
   ],
   "source": [
    "import functions as mf\n",
    "import numpy as np\n",
    "import matplotlib.pyplot as plt\n",
    "import scipy.sparse as sp\n",
    "import scipy.sparse.linalg as la\n",
    "from scipy.special import lambertw\n",
    "\n",
    "import importlib\n",
    "importlib.reload(mf)"
   ]
  },
  {
   "cell_type": "code",
   "execution_count": 2,
   "metadata": {},
   "outputs": [],
   "source": [
    "rho_plasma = 1003 #  kg/m3\n",
    "mu_plasma = 1e-3 # kg/ms\n",
    "\n",
    "rho_RBC = 1096 # kg/m3\n",
    "diameter_RBC = 8e-6 # m\n",
    "\n",
    "y_end = 5e-3 # m\n",
    "Ny = 100\n",
    "\n",
    "boundary_condition = [1, 1] \n",
    "blood_flow_rate = 20e-3 # m/s  # moet gecheckt worden\n",
    "pressure_difference = 1\n",
    "pressure_boundary = [1, 1]\n",
    "system = mf.Multiflow(Ny, y_end, rho_plasma, pressure_difference,\n",
    "                      pressure_boundary, boundary_condition, mu_plasma)\n",
    "mu = system.calc_mu(mu_plasma)"
   ]
  },
  {
   "cell_type": "markdown",
   "metadata": {},
   "source": [
    "# Plan van aanpak\n",
    "1D model\n",
    "1. define system parameters\n",
    "2. solve laminar\n",
    "3. solve prantdl in while loop\n",
    "4. solve wall function in while loop\n",
    "5. solve alpha2\n",
    "6. solve velocity u"
   ]
  },
  {
   "cell_type": "code",
   "execution_count": 4,
   "metadata": {},
   "outputs": [
    {
     "ename": "IndexError",
     "evalue": "tuple index out of range",
     "output_type": "error",
     "traceback": [
      "\u001b[1;31m---------------------------------------------------------------------------\u001b[0m",
      "\u001b[1;31mIndexError\u001b[0m                                Traceback (most recent call last)",
      "\u001b[1;32m<ipython-input-4-5a80f2aee574>\u001b[0m in \u001b[0;36m<module>\u001b[1;34m\u001b[0m\n\u001b[0;32m      5\u001b[0m \u001b[0msystem\u001b[0m\u001b[1;33m.\u001b[0m\u001b[0mpressure_difference\u001b[0m \u001b[1;33m=\u001b[0m \u001b[0mpressure_difference\u001b[0m\u001b[1;33m\u001b[0m\u001b[1;33m\u001b[0m\u001b[0m\n\u001b[0;32m      6\u001b[0m \u001b[1;33m\u001b[0m\u001b[0m\n\u001b[1;32m----> 7\u001b[1;33m \u001b[0mvelocity\u001b[0m \u001b[1;33m=\u001b[0m \u001b[0msystem\u001b[0m\u001b[1;33m.\u001b[0m\u001b[0msimulate\u001b[0m\u001b[1;33m(\u001b[0m\u001b[0mmu\u001b[0m\u001b[1;33m)\u001b[0m\u001b[1;33m\u001b[0m\u001b[1;33m\u001b[0m\u001b[0m\n\u001b[0m\u001b[0;32m      8\u001b[0m \u001b[0mQ\u001b[0m \u001b[1;33m=\u001b[0m \u001b[0mnp\u001b[0m\u001b[1;33m.\u001b[0m\u001b[0mtrapz\u001b[0m\u001b[1;33m(\u001b[0m\u001b[0mvelocity\u001b[0m\u001b[1;33m,\u001b[0m \u001b[0mx\u001b[0m\u001b[1;33m=\u001b[0m\u001b[0msystem\u001b[0m\u001b[1;33m.\u001b[0m\u001b[0my\u001b[0m\u001b[1;33m)\u001b[0m\u001b[1;33m\u001b[0m\u001b[1;33m\u001b[0m\u001b[0m\n\u001b[0;32m      9\u001b[0m \u001b[0mfactor\u001b[0m \u001b[1;33m=\u001b[0m \u001b[1;36m0.5\u001b[0m\u001b[1;33m\u001b[0m\u001b[1;33m\u001b[0m\u001b[0m\n",
      "\u001b[1;32mc:\\Users\\brent\\Documents\\comp_multphase_flow\\functions.py\u001b[0m in \u001b[0;36msimulate\u001b[1;34m(self, mu)\u001b[0m\n\u001b[0;32m     65\u001b[0m \u001b[1;33m\u001b[0m\u001b[0m\n\u001b[0;32m     66\u001b[0m         \u001b[1;31m# Solving the matrix equations\u001b[0m\u001b[1;33m\u001b[0m\u001b[1;33m\u001b[0m\u001b[1;33m\u001b[0m\u001b[0m\n\u001b[1;32m---> 67\u001b[1;33m         \u001b[0msolution\u001b[0m \u001b[1;33m=\u001b[0m \u001b[0mla\u001b[0m\u001b[1;33m.\u001b[0m\u001b[0mspsolve\u001b[0m\u001b[1;33m(\u001b[0m\u001b[0mmatrix_A\u001b[0m\u001b[1;33m,\u001b[0m \u001b[0mpressure_difference\u001b[0m\u001b[1;33m)\u001b[0m\u001b[1;33m\u001b[0m\u001b[1;33m\u001b[0m\u001b[0m\n\u001b[0m\u001b[0;32m     68\u001b[0m         \u001b[1;31m# solution = TDMAsolver(diag_B, diag_A, diag_C, pressure_difference)\u001b[0m\u001b[1;33m\u001b[0m\u001b[1;33m\u001b[0m\u001b[1;33m\u001b[0m\u001b[0m\n\u001b[0;32m     69\u001b[0m \u001b[1;33m\u001b[0m\u001b[0m\n",
      "\u001b[1;32m~\\AppData\\Roaming\\Python\\Python38\\site-packages\\scipy\\sparse\\linalg\\dsolve\\linsolve.py\u001b[0m in \u001b[0;36mspsolve\u001b[1;34m(A, b, permc_spec, use_umfpack)\u001b[0m\n\u001b[0;32m    165\u001b[0m         \u001b[1;32mraise\u001b[0m \u001b[0mValueError\u001b[0m\u001b[1;33m(\u001b[0m\u001b[1;34m\"matrix must be square (has shape %s)\"\u001b[0m \u001b[1;33m%\u001b[0m \u001b[1;33m(\u001b[0m\u001b[1;33m(\u001b[0m\u001b[0mM\u001b[0m\u001b[1;33m,\u001b[0m \u001b[0mN\u001b[0m\u001b[1;33m)\u001b[0m\u001b[1;33m,\u001b[0m\u001b[1;33m)\u001b[0m\u001b[1;33m)\u001b[0m\u001b[1;33m\u001b[0m\u001b[1;33m\u001b[0m\u001b[0m\n\u001b[0;32m    166\u001b[0m \u001b[1;33m\u001b[0m\u001b[0m\n\u001b[1;32m--> 167\u001b[1;33m     \u001b[1;32mif\u001b[0m \u001b[0mM\u001b[0m \u001b[1;33m!=\u001b[0m \u001b[0mb\u001b[0m\u001b[1;33m.\u001b[0m\u001b[0mshape\u001b[0m\u001b[1;33m[\u001b[0m\u001b[1;36m0\u001b[0m\u001b[1;33m]\u001b[0m\u001b[1;33m:\u001b[0m\u001b[1;33m\u001b[0m\u001b[1;33m\u001b[0m\u001b[0m\n\u001b[0m\u001b[0;32m    168\u001b[0m         raise ValueError(\"matrix - rhs dimension mismatch (%s - %s)\"\n\u001b[0;32m    169\u001b[0m                          % (A.shape, b.shape[0]))\n",
      "\u001b[1;31mIndexError\u001b[0m: tuple index out of range"
     ]
    }
   ],
   "source": [
    "# Prescribed flow rate\n",
    "Q_des = np.pi * (system.y_end/2)**2 * blood_flow_rate\n",
    "eps = 1e-3\n",
    "error = 1\n",
    "system.set_pressure_difference(pressure_difference)\n",
    "\n",
    "velocity = system.simulate(mu)\n",
    "Q = np.trapz(velocity, x=system.y)\n",
    "factor = 0.5\n",
    "#P = [system.pressure_difference, 2*system.pressure_difference]\n",
    "switch = [0,0]\n",
    "\n",
    "while error > eps:\n",
    "    if switch[-2] != switch[-1]:\n",
    "        factor*=0.8\n",
    "    if Q<Q_des:\n",
    "        # system.pressure_difference = P[-1] + np.abs(P[-1]-P[-2])/2 * factor\n",
    "        system.pressure_difference -= system.pressure_difference * factor\n",
    "\n",
    "        velocity = system.simulate(mu)\n",
    "        Q = np.trapz(velocity, x=system.y)\n",
    "        error = np.abs(Q - Q_des)\n",
    "        switch.append(0)\n",
    "        # P.append(system.pressure_difference)\n",
    "    else:\n",
    "        # system.pressure_difference = P[-1] - np.abs(P[-1]-P[-2])/2 * fac\n",
    "        system.pressure_difference += system.pressure_difference * factor\n",
    "        velocity = system.simulate(mu)\n",
    "        Q = np.trapz(velocity, x=system.y)\n",
    "        error = np.abs(Q-Q_des)\n",
    "        # P.append(system.pressure_difference)\n",
    "        switch.append(1)\n",
    "    if len(switch) == 10:\n",
    "        print(\"Oh nyo, it's bwoken\")\n",
    "        break\n",
    "\n",
    "plt.plot(velocity, system.y)\n",
    "print(Q, Q_des)"
   ]
  },
  {
   "cell_type": "code",
   "execution_count": null,
   "metadata": {},
   "outputs": [],
   "source": []
  }
 ],
 "metadata": {
  "interpreter": {
   "hash": "33f6d2c96b4b5e4cdf0a485e0e50b0ac5485a349ab8a5f5aad4df38a767d21d0"
  },
  "kernelspec": {
   "display_name": "Python 3.8.2 32-bit",
   "language": "python",
   "name": "python3"
  },
  "language_info": {
   "codemirror_mode": {
    "name": "ipython",
    "version": 3
   },
   "file_extension": ".py",
   "mimetype": "text/x-python",
   "name": "python",
   "nbconvert_exporter": "python",
   "pygments_lexer": "ipython3",
   "version": "3.8.2"
  },
  "orig_nbformat": 4
 },
 "nbformat": 4,
 "nbformat_minor": 2
}

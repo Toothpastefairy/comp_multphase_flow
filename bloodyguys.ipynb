{
 "cells": [
  {
   "cell_type": "code",
   "execution_count": 5,
   "metadata": {},
   "outputs": [
    {
     "data": {
      "text/plain": [
       "<module 'functions' from 'c:\\\\Users\\\\brent\\\\Documents\\\\comp_multphase_flow\\\\functions.py'>"
      ]
     },
     "execution_count": 5,
     "metadata": {},
     "output_type": "execute_result"
    }
   ],
   "source": [
    "import functions as mf\n",
    "import numpy as np\n",
    "import matplotlib.pyplot as plt\n",
    "import scipy.sparse as sp\n",
    "import scipy.sparse.linalg as la\n",
    "from scipy.special import lambertw\n",
    "\n",
    "import importlib\n",
    "importlib.reload(mf)"
   ]
  },
  {
   "cell_type": "code",
   "execution_count": 25,
   "metadata": {},
   "outputs": [],
   "source": [
    "rho_plasma = 1003 #  kg/m3\n",
    "mu_plasma = 1e-3 # kg/ms\n",
    "\n",
    "rho_RBC = 1096 # kg/m3\n",
    "diameter_RBC = 8e-6 # m\n",
    "\n",
    "y_end = 5e-3 # m\n",
    "Ny = 100\n",
    "\n",
    "boundary_condition = [1, 1] \n",
    "blood_flow_rate = 20e-3 # m/s  # moet gecheckt worden\n",
    "Q_des = 185*1e-6 #m3/s total bloodflow\n",
    "pressure_difference = 1e-3\n",
    "pressure_boundary = np.array([1, 1])*1e-3\n",
    "system = mf.Multiflow(Ny, y_end, rho_plasma, pressure_difference,\n",
    "                      pressure_boundary, boundary_condition, mu_plasma)\n",
    "mu = system.calc_mu(mu_plasma)"
   ]
  },
  {
   "cell_type": "markdown",
   "metadata": {},
   "source": [
    "# Plan van aanpak\n",
    "1D model\n",
    "1. define system parameters\n",
    "2. solve laminar\n",
    "3. solve prantdl in while loop\n",
    "4. solve wall function in while loop\n",
    "5. solve alpha2\n",
    "6. solve velocity u"
   ]
  },
  {
   "cell_type": "code",
   "execution_count": 27,
   "metadata": {},
   "outputs": [
    {
     "name": "stdout",
     "output_type": "stream",
     "text": [
      "43\n",
      "0.00018517128339629353 0.000185\n"
     ]
    },
    {
     "data": {
      "image/png": "[encoded data removed]",
      "text/plain": [
       "<Figure size 432x288 with 1 Axes>"
      ]
     },
     "metadata": {
      "needs_background": "light"
     },
     "output_type": "display_data"
    }
   ],
   "source": [
    "# Prescribed flow rate\n",
    "# Q_des = np.pi * (system.y_end/2)**2 * blood_flow_rate\n",
    "eps = 1e-3\n",
    "error = 1\n",
    "system.set_pressure_difference(pressure_difference)\n",
    "\n",
    "velocity = system.simulate(mu)\n",
    "Q = np.trapz(velocity, x=system.y)\n",
    "factor = 0.95\n",
    "#P = [system.pressure_difference, 2*system.pressure_difference]\n",
    "switch = [0,0]\n",
    "\n",
    "while error > eps:\n",
    "    if switch[-2] != switch[-1]:\n",
    "        factor*=0.9\n",
    "    if Q<Q_des:\n",
    "        # system.pressure_difference = P[-1] + np.abs(P[-1]-P[-2])/2 * factor\n",
    "        system.pressure_difference += system.pressure_difference * factor\n",
    "\n",
    "        velocity = system.simulate(mu)\n",
    "        Q = np.trapz(velocity, x=system.y)\n",
    "        error = np.abs((Q-Q_des)/Q_des)\n",
    "        switch.append(0)\n",
    "        # P.append(system.pressure_difference)\n",
    "    else:\n",
    "        # system.pressure_difference = P[-1] - np.abs(P[-1]-P[-2])/2 * fac\n",
    "        system.pressure_difference -= system.pressure_difference * factor\n",
    "        velocity = system.simulate(mu)\n",
    "        Q = np.trapz(velocity, x=system.y)\n",
    "        error = np.abs((Q-Q_des)/Q_des)\n",
    "        # P.append(system.pressure_difference)\n",
    "        switch.append(1)\n",
    "    if len(switch) == 300:\n",
    "        print(\"Oh nyo, it's bwoken\")\n",
    "        break\n",
    "\n",
    "velocity_laminar = velocity\n",
    "\n",
    "print(len(switch))\n",
    "plt.plot(velocity, system.y)\n",
    "print(Q, Q_des)"
   ]
  },
  {
   "cell_type": "markdown",
   "metadata": {},
   "source": [
    "# Brentl mixing length"
   ]
  },
  {
   "cell_type": "code",
   "execution_count": null,
   "metadata": {},
   "outputs": [],
   "source": [
    "argument_type = None\n",
    "\n",
    "velocity_new = velocity_laminar\n",
    "\n",
    "# Then calculate the solution with Prandtl mixing length\n",
    "eps = 0.01\n",
    "error = 1\n",
    "i = 0\n",
    "\n",
    "# Looping till solution converges\n",
    "while error > eps:\n",
    "    velocity = velocity_new\n",
    "\n",
    "    # Calculate new effective viscosity\n",
    "    mu_Prandtl = system.calc_mu_Prandtl(velocity, argument_type)\n",
    "\n",
    "    # Calculate ensuing velocity\n",
    "    velocity_new = system.simulate(mu_Prandtl)\n",
    "\n",
    "    error = np.sum(np.abs((velocity_new - velocity) / velocity))\n",
    "    i+=1\n",
    "    print(\"iteration\", i, \"with error\", error, end='\\r')\n",
    "\n",
    "    if i > 2000:\n",
    "        print(\"Oh nyo, it's bwoken\")\n",
    "        break\n",
    "\n",
    "velocity_turbulent = velocity_new\n",
    "mu_turbulent = mu_Prandtl\n",
    "\n",
    "plt.plot(velocity_laminar, system.y, label=\"laminar\")\n",
    "plt.plot(velocity_new, system.y, label=\"pml\")\n",
    "plt.title(\"velocity with prandtl mixing length vs laminar\")\n",
    "plt.xlabel('Velocity [m/s]')\n",
    "plt.ylabel('Channel height [m]')\n",
    "plt.legend()\n",
    "plt.show()"
   ]
  }
 ],
 "metadata": {
  "interpreter": {
   "hash": "33f6d2c96b4b5e4cdf0a485e0e50b0ac5485a349ab8a5f5aad4df38a767d21d0"
  },
  "kernelspec": {
   "display_name": "Python 3.8.2 32-bit",
   "language": "python",
   "name": "python3"
  },
  "language_info": {
   "codemirror_mode": {
    "name": "ipython",
    "version": 3
   },
   "file_extension": ".py",
   "mimetype": "text/x-python",
   "name": "python",
   "nbconvert_exporter": "python",
   "pygments_lexer": "ipython3",
   "version": "3.8.2"
  },
  "orig_nbformat": 4
 },
 "nbformat": 4,
 "nbformat_minor": 2
}

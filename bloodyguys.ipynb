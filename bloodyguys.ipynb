{
 "cells": [
  {
   "cell_type": "code",
   "execution_count": null,
   "metadata": {},
   "outputs": [],
   "source": [
    "import numpy as np\n",
    "import functions as mf\n"
   ]
  },
  {
   "cell_type": "code",
   "execution_count": null,
   "metadata": {},
   "outputs": [],
   "source": [
    "rho_plasma = 1003 #  kg/m3\n",
    "mu_plasma = 1e-3 # kg/ms\n",
    "\n",
    "rho_RBC = 1096 # kg/m3\n",
    "diameter_RBC = 8e-6 # m\n",
    "\n",
    "y_end = 5e-3 # m\n",
    "Ny = 100\n",
    "\n",
    "boundary_condition = [1, 1] \n",
    "blood_flow_rate = 20e-3 # m/s  # moet gecheckt worden\n"
   ]
  },
  {
   "cell_type": "markdown",
   "metadata": {},
   "source": [
    "# Plan van aanpak\n",
    "1D model\n",
    "1. define system parameters\n",
    "2. solve laminar\n",
    "3. solve prantdl in while loop\n",
    "4. solve wall function in while loop\n",
    "5. solve alpha2\n",
    "6. solve velocity u"
   ]
  },
  {
   "cell_type": "markdown",
   "metadata": {},
   "source": []
  }
 ],
 "metadata": {
  "language_info": {
   "name": "python"
  },
  "orig_nbformat": 4
 },
 "nbformat": 4,
 "nbformat_minor": 2
}

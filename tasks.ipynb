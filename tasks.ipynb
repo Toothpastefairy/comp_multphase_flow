{
 "cells": [
  {
   "cell_type": "code",
   "execution_count": null,
   "metadata": {},
   "outputs": [],
   "source": [
    "from functions import Multiflow\n",
    "import numpy as np\n",
    "import matplotlib.pyplot as plt\n",
    "import scipy.sparse as sp\n",
    "import scipy.sparse.linalg as la\n",
    "from scipy.special import lambertw"
   ]
  },
  {
   "cell_type": "code",
   "execution_count": null,
   "metadata": {},
   "outputs": [],
   "source": [
    "# Define the grid\n",
    "Ny = 1000\n",
    "y_end = 10\n",
    "\n",
    "# Define flow parameters\n",
    "rho = 1\n",
    "mu_0 = 1 \n",
    "Pressure_difference = 1\n",
    "pressure_boundary = [4, 4]\n",
    "boundary_condition = [1, 1]\n",
    "\n",
    "\n",
    "system = Multiflow.new(Ny, y_end, rho, pressure_difference ,pressure_boundary, boundary_condition, mu_0)\n",
    "mu = system.calc_mu(mu_0,Ny)"
   ]
  },
  {
   "cell_type": "code",
   "execution_count": null,
   "metadata": {},
   "outputs": [],
   "source": [
    "\n",
    "# velocity gradient is 0 at wall 1, velocity set at wall 2\n",
    "boundary_condition = [1,-1]\n",
    "pressure_boundary = [0, 0]\n",
    "system_velocity_gradient = Multiflow.new(Ny, y_end, rho, pressure_difference ,pressure_boundary, boundary_condition, mu_0)\n",
    "solution = system_velocity_gradient.simulate(mu)\n",
    "plt.plot(solution[1:-1], system_velocity_gradient.y[1:-1])\n",
    "plt.title(\"Prescribed Velocity gradient at lower wall, velocity at upper wall\")\n",
    "plt.xlabel('Velocity [m/s]')\n",
    "plt.ylabel('Channel height [m]')\n",
    "plt.show()\n",
    "\n",
    "# velocity is 0 at wall\n",
    "boundary_condition = [1, 1]\n",
    "system_velocity_zero = Multiflow.new(Ny, y_end, rho, pressure_difference ,pressure_boundary, boundary_condition, mu_0)\n",
    "solution = simulate(mu)\n",
    "plt.title(\"Prescribed velocity 0 at bowth walls\")\n",
    "plt.xlabel('Velocity [m/s]')\n",
    "plt.ylabel('Channel height [m]')\n",
    "plt.plot(solution,y, '.')\n",
    "plt.axhline(0, color='grey', linestyle='dashed')\n",
    "plt.show()\n",
    "\n",
    "# prescribed shear stress at wall\n",
    "print(\"prescribed shear stress at wall\")\n",
    "stress = 1\n",
    "boundary_condition = [-1, 1]\n",
    "pressure_boundary = [-stress * dy / mu[0], 0]\n",
    "system_velocity_shear_stress = Multiflow.new(Ny, y_end, rho, pressure_difference ,pressure_boundary, boundary_condition, mu_0)\n",
    "solution = system_velocity_shear_stress.simulate(mu)\n",
    "plt.title(\"Prescribed shear stress at lower wall\")\n",
    "plt.xlabel('Velocity [m/s]')\n",
    "plt.ylabel('Channel height [m]')\n",
    "plt.plot(solution,system_velocity_shear_stress.y, '.')\n",
    "plt.show()\n"
   ]
  },
  {
   "cell_type": "markdown",
   "metadata": {},
   "source": [
    "prantl mixing length"
   ]
  },
  {
   "cell_type": "code",
   "execution_count": null,
   "metadata": {},
   "outputs": [],
   "source": [
    "\n",
    "mu = system.calc_mu(mu_0)\n",
    "velocity_laminar = system.simulate(mu)\n",
    "\n",
    "velocity_new = velocity_laminar\n",
    "\n",
    "# Then calculate the solution with Prandtl mixing length\n",
    "eps = 0.02\n",
    "error = 1\n",
    "i = 0\n",
    "\n",
    "# Looping till solution converges\n",
    "while error > eps:\n",
    "    velocity = velocity_new\n",
    "\n",
    "    # Calculate new effective viscosity\n",
    "    mu_Prandtl = self.calc_mu_Prandtl(velocity, mu_0, argument_type)\n",
    "\n",
    "    # Calculate ensuing velocity\n",
    "    velocity_new = self.simulate(mu_Prandtl, )\n",
    "\n",
    "    error = np.sum(np.abs((velocity_new - velocity) / velocity))\n",
    "    i+=1\n",
    "    print(\"iteration\", i, \"with error\", error, end='\\r')\n",
    "\n",
    "    if i > 200:\n",
    "        print(\"Oh nyo, it's bwoken\")\n",
    "        return None\n"
   ]
  }
 ],
 "metadata": {
  "language_info": {
   "name": "python"
  },
  "orig_nbformat": 4
 },
 "nbformat": 4,
 "nbformat_minor": 2
}

{
 "cells": [
  {
   "cell_type": "code",
   "execution_count": 1,
   "metadata": {},
   "outputs": [],
   "source": [
    "import functions as mf\n",
    "import numpy as np\n",
    "import matplotlib.pyplot as plt\n",
    "import scipy.sparse as sp\n",
    "import scipy.sparse.linalg as la\n",
    "from scipy.special import lambertw"
   ]
  },
  {
   "cell_type": "code",
   "execution_count": null,
   "metadata": {},
   "outputs": [],
   "source": [
    "# Define the grid\n",
    "Ny = 1000\n",
    "y_end = 10\n",
    "\n",
    "# Define flow parameters\n",
    "rho = 1\n",
    "mu_0 = 1 \n",
    "pressure_difference = 1\n",
    "pressure_boundary = [4, 4]\n",
    "boundary_condition = [1, 1]\n",
    "\n",
    "\n",
    "system = mf.Multiflow(Ny, y_end, rho, pressure_difference ,pressure_boundary, boundary_condition, mu_0)\n",
    "mu = system.calc_mu(mu_0,Ny)"
   ]
  },
  {
   "cell_type": "code",
   "execution_count": null,
   "metadata": {},
   "outputs": [],
   "source": [
    "\n",
    "# velocity gradient is 0 at wall 1, velocity set at wall 2\n",
    "boundary_condition = [1,-1]\n",
    "pressure_boundary = [0, 0]\n",
    "system_velocity_gradient = mf.Multiflow(Ny, y_end, rho, pressure_difference ,pressure_boundary, boundary_condition, mu_0)\n",
    "solution = system_velocity_gradient.simulate(mu)\n",
    "plt.plot(solution[1:-1], system_velocity_gradient.y[1:-1])\n",
    "plt.title(\"Prescribed Velocity gradient at lower wall, velocity at upper wall\")\n",
    "plt.xlabel('Velocity [m/s]')\n",
    "plt.ylabel('Channel height [m]')\n",
    "plt.show()\n",
    "\n",
    "# velocity is 0 at wall\n",
    "boundary_condition = [1, 1]\n",
    "system_velocity_zero = mf.Multiflow(Ny, y_end, rho, pressure_difference ,pressure_boundary, boundary_condition, mu_0)\n",
    "solution = simulate(mu)\n",
    "plt.title(\"Prescribed velocity 0 at bowth walls\")\n",
    "plt.xlabel('Velocity [m/s]')\n",
    "plt.ylabel('Channel height [m]')\n",
    "plt.plot(solution,y, '.')\n",
    "plt.axhline(0, color='grey', linestyle='dashed')\n",
    "plt.show()\n",
    "\n",
    "# prescribed shear stress at wall\n",
    "print(\"prescribed shear stress at wall\")\n",
    "stress = 1\n",
    "boundary_condition = [-1, 1]\n",
    "pressure_boundary = [-stress * dy / mu[0], 0]\n",
    "system_velocity_shear_stress = mf.Multiflow(Ny, y_end, rho, pressure_difference ,pressure_boundary, boundary_condition, mu_0)\n",
    "solution = system_velocity_shear_stress.simulate(mu)\n",
    "plt.title(\"Prescribed shear stress at lower wall\")\n",
    "plt.xlabel('Velocity [m/s]')\n",
    "plt.ylabel('Channel height [m]')\n",
    "plt.plot(solution,system_velocity_shear_stress.y, '.')\n",
    "plt.show()\n"
   ]
  },
  {
   "cell_type": "markdown",
   "metadata": {},
   "source": [
    "prantl mixing length"
   ]
  },
  {
   "cell_type": "code",
   "execution_count": null,
   "metadata": {},
   "outputs": [],
   "source": [
    "argument_type = \"Spalding\"\n",
    "mu = system.calc_mu(mu_0)\n",
    "velocity_laminar = system.simulate(mu)\n",
    "\n",
    "velocity_new = velocity_laminar\n",
    "\n",
    "# Then calculate the solution with Prandtl mixing length\n",
    "eps = 0.02\n",
    "error = 1\n",
    "i = 0\n",
    "\n",
    "# Looping till solution converges\n",
    "while error > eps:\n",
    "    velocity = velocity_new\n",
    "\n",
    "    # Calculate new effective viscosity\n",
    "    mu_Prandtl = system.calc_mu_Prandtl(velocity, mu_0, argument_type)\n",
    "\n",
    "    # Calculate ensuing velocity\n",
    "    velocity_new = system.simulate(mu_Prandtl)\n",
    "\n",
    "    error = np.sum(np.abs((velocity_new - velocity) / velocity))\n",
    "    i+=1\n",
    "    print(\"iteration\", i, \"with error\", error, end='\\r')\n",
    "\n",
    "    if i > 200:\n",
    "        print(\"Oh nyo, it's bwoken\")\n",
    "        return None\n"
   ]
  }
 ],
 "metadata": {
  "interpreter": {
   "hash": "33f6d2c96b4b5e4cdf0a485e0e50b0ac5485a349ab8a5f5aad4df38a767d21d0"
  },
  "kernelspec": {
   "display_name": "Python 3.8.2 32-bit",
   "language": "python",
   "name": "python3"
  },
  "language_info": {
   "codemirror_mode": {
    "name": "ipython",
    "version": 3
   },
   "file_extension": ".py",
   "mimetype": "text/x-python",
   "name": "python",
   "nbconvert_exporter": "python",
   "pygments_lexer": "ipython3",
   "version": "3.8.2"
  },
  "orig_nbformat": 4
 },
 "nbformat": 4,
 "nbformat_minor": 2
}
